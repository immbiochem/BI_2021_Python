{
 "cells": [
  {
   "cell_type": "markdown",
   "id": "e3b3755b-72ae-465a-a49a-4c56f8693300",
   "metadata": {},
   "source": [
    "# Декораторы"
   ]
  },
  {
   "cell_type": "markdown",
   "id": "30b45813-d08c-4be2-a3d5-14cc7181e5ba",
   "metadata": {},
   "source": [
    "### Немного вспомним про функции"
   ]
  },
  {
   "cell_type": "markdown",
   "id": "909732b8-9a82-42a6-891a-3f6500556948",
   "metadata": {},
   "source": [
    "Мы с вами уже знаем, что в питоне любая **функция** это **объект**. Функции можно записывать в переменные и передавать в другие функции. Такие функции (в которые мы передаём другие функции) называются **фукциями высшего порядка**.\n",
    "\n",
    "Мы с ними уже хорошо знакомы, например: `map`, `filter`, `partial` и др"
   ]
  },
  {
   "cell_type": "code",
   "execution_count": 8,
   "id": "a98cfc86-a54c-4a0e-92da-144b3caddc6e",
   "metadata": {},
   "outputs": [
    {
     "name": "stdout",
     "output_type": "stream",
     "text": [
      "2\n",
      "3\n",
      "4\n",
      "5\n",
      "6\n"
     ]
    }
   ],
   "source": [
    "def inc(a):\n",
    "    return a + 1\n",
    "\n",
    "\n",
    "for i in map(inc, [1, 2, 3, 4, 5]):\n",
    "    print(i)"
   ]
  },
  {
   "cell_type": "markdown",
   "id": "034899ec-90b5-4f06-9312-262017445880",
   "metadata": {},
   "source": [
    "## Формулируем проблему"
   ]
  },
  {
   "cell_type": "markdown",
   "id": "f4815272-0c9c-44ab-ac9b-ea2b40ad4e10",
   "metadata": {},
   "source": [
    "Как же с этим связаны декораторы, что они такое и зачем они нужны? Давайте сформулируем проблему на игрушечном примере.\n",
    "\n",
    "Допустим, что у нас есть много функций, которые выполняют какую-то работу"
   ]
  },
  {
   "cell_type": "code",
   "execution_count": 14,
   "id": "ee68d20f-cc1b-4985-9715-1511a85aba55",
   "metadata": {},
   "outputs": [],
   "source": [
    "import random\n",
    "\n",
    "\n",
    "def small_work():\n",
    "    for _ in range(10000):\n",
    "        random.uniform(0, 1000) ** random.uniform(0, 5)\n",
    "        \n",
    "def medium_work():\n",
    "    for _ in range(100000):\n",
    "        random.uniform(0, 1000) ** random.uniform(0, 5)\n",
    "        \n",
    "def big_work():\n",
    "    for _ in range(1000000):\n",
    "        random.uniform(0, 1000) ** random.uniform(0, 5)"
   ]
  },
  {
   "cell_type": "markdown",
   "id": "dad10c8e-101f-4e25-a2a0-86a79c60cda1",
   "metadata": {},
   "source": [
    "Мы хотим замерить время выполнения этих функций"
   ]
  },
  {
   "cell_type": "code",
   "execution_count": 17,
   "id": "dbccd5bb-ad3f-41e6-8b3b-705c9659aa3b",
   "metadata": {},
   "outputs": [
    {
     "name": "stdout",
     "output_type": "stream",
     "text": [
      "Function small_work has finished in 0.0036613941192626953 second\n",
      "Function medium_work has finished in 0.06051754951477051 second\n",
      "Function big_work has finished in 0.29753589630126953 second\n"
     ]
    }
   ],
   "source": [
    "import time\n",
    "\n",
    "\n",
    "start = time.time()\n",
    "small_work()\n",
    "end = time.time()\n",
    "print(f\"Function small_work has finished in {end - start} second\")\n",
    "\n",
    "start = time.time()\n",
    "medium_work()\n",
    "end = time.time()\n",
    "print(f\"Function medium_work has finished in {end - start} second\")\n",
    "\n",
    "start = time.time()\n",
    "big_work()\n",
    "end = time.time()\n",
    "print(f\"Function big_work has finished in {end - start} second\")"
   ]
  },
  {
   "cell_type": "markdown",
   "id": "f8620dd9-606e-4c34-9b62-e093405cd08d",
   "metadata": {},
   "source": [
    "Это не самый удобный способ, нам 3 раза пришлось написать один и тот же код, это точно можно упростить"
   ]
  },
  {
   "cell_type": "code",
   "execution_count": 18,
   "id": "2b9274c9-ce28-4b96-99f9-e6805b318fea",
   "metadata": {},
   "outputs": [
    {
     "name": "stdout",
     "output_type": "stream",
     "text": [
      "Function small_work has finished in 0.003774404525756836 second\n",
      "Function medium_work has finished in 0.04727053642272949 second\n",
      "Function big_work has finished in 0.29998779296875 second\n"
     ]
    }
   ],
   "source": [
    "for function in [small_work, medium_work, big_work]:\n",
    "    start = time.time()\n",
    "    function()\n",
    "    end = time.time()\n",
    "    print(f\"Function {function.__name__} has finished in {end - start} second\")"
   ]
  },
  {
   "cell_type": "markdown",
   "id": "afd99bac-e891-45e9-a1a4-4e43fdd6edd7",
   "metadata": {},
   "source": [
    "Уже лучше, но этот способ будет очень неудобен, если наши функции будут принимать какие-то аргументы. В таком случае нам пришлось бы составлять их списки и итерироваться по ним в том числе."
   ]
  },
  {
   "cell_type": "markdown",
   "id": "560d01d6-45e7-48a8-bb70-103b40987dab",
   "metadata": {},
   "source": [
    "## Базовый синтаксис декораторов"
   ]
  },
  {
   "cell_type": "markdown",
   "id": "7adc34f5-c33f-4321-bff2-fb4d28fc4cfc",
   "metadata": {},
   "source": [
    "Для того, чтобы избежать всех этих проблем напишем вот такую конструкцию"
   ]
  },
  {
   "cell_type": "code",
   "execution_count": 20,
   "id": "002cd78f-1239-454c-92d3-6f72b97ae9dc",
   "metadata": {},
   "outputs": [],
   "source": [
    "def measure_time(func):\n",
    "    def inner_function():\n",
    "        start = time.time()\n",
    "        func()\n",
    "        end = time.time()\n",
    "        print(f\"Function {func.__name__} has finished in {end - start} second\")\n",
    "    return inner_function"
   ]
  },
  {
   "cell_type": "markdown",
   "id": "b8cefea2-83fe-4628-abda-cc53af112645",
   "metadata": {},
   "source": [
    "```python\n",
    "def measure_time(func):\n",
    "    def inner_function():\n",
    "        start = time.time()\n",
    "        func()\n",
    "        end = time.time()\n",
    "        print(f\"Function {func.__name__} has finished in {end - start} second\")\n",
    "    return inner_function\n",
    "```"
   ]
  },
  {
   "cell_type": "code",
   "execution_count": 21,
   "id": "ec782f30-02d8-4589-af68-b89663398846",
   "metadata": {},
   "outputs": [
    {
     "name": "stdout",
     "output_type": "stream",
     "text": [
      "Function small_work has finished in 0.0066547393798828125 second\n",
      "Function medium_work has finished in 0.06227469444274902 second\n",
      "Function big_work has finished in 0.31817173957824707 second\n"
     ]
    }
   ],
   "source": [
    "small_work = measure_time(small_work)\n",
    "medium_work = measure_time(medium_work)\n",
    "big_work = measure_time(big_work)\n",
    "\n",
    "small_work()\n",
    "medium_work()\n",
    "big_work()"
   ]
  },
  {
   "attachments": {
    "5bdbcd94-b581-4650-8b78-ff7b8097fae9.png": {
     "image/png": "[encoded data removed]"
    }
   },
   "cell_type": "markdown",
   "id": "40f98b11-896d-4a3d-ad51-96ac3d5c0124",
   "metadata": {},
   "source": [
    "Давайте разберём, что здесь произошло. Мы создали функцию `measure_time`, которая принимает на вход любую другую функцию, мы будем передавать в неё наши `xxxx_work`, Внутри мы через `def` объявляем новую функцию `inner_func`, которую затем возвращаем. Обратите внимание, что внутри `measure_time` мы **НЕ вызываем** `inner_func`, а просто возвращаем её как объект. После возвращения из `measure_time` функция `inner_func` запишется в переменную `small_work` вот в этой строке\n",
    "```python\n",
    "small_work = measure_time(small_work)\n",
    "```\n",
    "Пока мы не разбирали, что происходит в `inner_func`, нам было важно лишь то, что её объявили внутри функции `measure_time` и вернули из неё.\n",
    "\n",
    "Но всё-таки интересно, что там произошло. Ведь этой самой функцией мы по сути подменяем наши оригинальные (как в примере выше). Давайте разбираться\n",
    "\n",
    "Внутри `inner_function` происходит знакомый нам расчёт времени выполнения функции `func`, которая изначально была передана в `measure_time`. По сути сам вызов функции не изменятся, он только \"оборачивается\" в дополнительный функционал вычисления времени выполнения (или иначе говоря, **\"декорируется\"**) и запаковывается в новую функцию `inner_func`, которая возвращается нам.\n",
    "\n",
    "Функция `measure_time` является **декоратором**, а `func` **декорируемой** функцией. Проще говоря, декораторы просто \"оборачивают\" наши функции в дополнительный функционал, без изменений их кода и логики работы. Т.е. `func` отрабатывает без изменений, но добавляется дополнительный код до и после её вызова.\n",
    "\n",
    "На картинке обозначены основные элементы декоратора\n",
    "![image.png](attachment:5bdbcd94-b581-4650-8b78-ff7b8097fae9.png)"
   ]
  },
  {
   "cell_type": "markdown",
   "id": "db2b203d-ec26-4e7b-8600-7abc11993308",
   "metadata": {},
   "source": [
    "Пример выше демонстрирует основной синтаксис декораторов в питоне и да, это выглядит страшно :)"
   ]
  },
  {
   "cell_type": "markdown",
   "id": "8d1a7671-77f1-4be4-9926-36fbd53a7848",
   "metadata": {},
   "source": [
    "## Декорируем функции, принимающие аргументы"
   ]
  },
  {
   "cell_type": "markdown",
   "id": "368bde7b-247d-40d7-9a6d-6d0e79099e6c",
   "metadata": {},
   "source": [
    "Мы можем сделать ещё одно улучшение и добавить возможность принимать функции с любыми аргументами, а также возвращать значение"
   ]
  },
  {
   "cell_type": "code",
   "execution_count": 32,
   "id": "d90dedf4-6cf4-48ef-bcbb-c6feae591e84",
   "metadata": {},
   "outputs": [],
   "source": [
    "def measure_time(func):\n",
    "    def inner_function(*args, **kwargs):\n",
    "        start = time.time()\n",
    "        result = func(*args, **kwargs)\n",
    "        end = time.time()\n",
    "        print(f\"Function {func.__name__} has finished in {end - start} second\")\n",
    "        return result\n",
    "    return inner_function"
   ]
  },
  {
   "cell_type": "markdown",
   "id": "71161612-ba39-418c-bf1e-608cc081cf28",
   "metadata": {},
   "source": [
    "Теперь функция на выходе из декоратора будет принимать любое количество позиционных и именованных аргументов, которые затем будут просто \"пробрасываться\" в внутренний вызов `func`.\n",
    "\n",
    "Результат выполнения нашей декорируемой функции мы сохранили в переменную `result` и возвращаем её в самом конце.\n",
    "\n",
    "Убедимся, что всё работает на примерах"
   ]
  },
  {
   "cell_type": "code",
   "execution_count": 38,
   "id": "e9edf8e0-2f1f-4d5e-84cf-549ff8a1ca5b",
   "metadata": {},
   "outputs": [],
   "source": [
    "def add(a, b):\n",
    "    return a + b\n",
    "\n",
    "def square_list(lst):\n",
    "    return [i**2 for i in lst]\n",
    "\n",
    "def invert_dictionary(dct):\n",
    "    return dict(zip(dct.values(), dct.keys()))\n",
    "\n",
    "def repeat_string(string, n_repeats=2):\n",
    "    return string * n_repeats"
   ]
  },
  {
   "cell_type": "code",
   "execution_count": 39,
   "id": "32586197-5f1c-43fd-8921-77d931b4225f",
   "metadata": {},
   "outputs": [
    {
     "name": "stdout",
     "output_type": "stream",
     "text": [
      "Function add has finished in 1.430511474609375e-06 second\n",
      "3903488384679\n",
      "Function square_list has finished in 1.1682510375976562e-05 second\n",
      "[0, 1, 4, 9, 16, 25, 36, 49, 64, 81, 100, 121, 144, 169, 196, 225, 256, 289, 324, 361, 400, 441, 484, 529, 576]\n",
      "Function invert_dictionary has finished in 4.76837158203125e-06 second\n",
      "{1: 'a', 2: 'b', 3: 'c', 4: 'd'}\n",
      "Function repeat_string has finished in 2.1457672119140625e-06 second\n",
      "ABCDEFG*ABCDEFG*ABCDEFG*ABCDEFG*ABCDEFG*ABCDEFG*ABCDEFG*ABCDEFG*ABCDEFG*ABCDEFG*\n"
     ]
    }
   ],
   "source": [
    "add = measure_time(add)\n",
    "square_list = measure_time(square_list)\n",
    "invert_dictionary = measure_time(invert_dictionary)\n",
    "repeat_string = measure_time(repeat_string)\n",
    "\n",
    "\n",
    "print(add(10012401204, 3893475983475))\n",
    "print(square_list(list(range(25))))\n",
    "print(invert_dictionary({\"a\": 1, \"b\": 2, \"c\": 3, \"d\": 4}))\n",
    "print(repeat_string(\"ABCDEFG*\", n_repeats=10))"
   ]
  },
  {
   "cell_type": "markdown",
   "id": "4eff7707-9406-465b-9b71-651c8475747d",
   "metadata": {},
   "source": [
    "## Делаем запись более удобной"
   ]
  },
  {
   "cell_type": "markdown",
   "id": "24b51408-dfcf-450f-9c5e-7e472a0c52d5",
   "metadata": {},
   "source": [
    "Всё работает! Функции выполняют свои обычные операции и при этом пишут сообщения о времени выполнения. Заметим только, что нам всё равно приходится вручную декорировать наши функции вот такой неудобной записью\n",
    "```python\n",
    "add = measure_time(add)\n",
    "square_list = measure_time(square_list)\n",
    "invert_dictionary = measure_time(invert_dictionary)\n",
    "repeat_string = measure_time(repeat_string)\n",
    "```\n",
    "Это исправимо, в питоне для этого есть специальный синтаксический сахар. При объявлении функций мы как бы помечаем их следующим образом"
   ]
  },
  {
   "cell_type": "code",
   "execution_count": 40,
   "id": "fb54cbe1-9f3b-4d7c-90b9-3acdf4c7183d",
   "metadata": {},
   "outputs": [
    {
     "name": "stdout",
     "output_type": "stream",
     "text": [
      "Function add has finished in 1.1920928955078125e-06 second\n",
      "3903488384679\n",
      "Function square_list has finished in 1.0728836059570312e-05 second\n",
      "[0, 1, 4, 9, 16, 25, 36, 49, 64, 81, 100, 121, 144, 169, 196, 225, 256, 289, 324, 361, 400, 441, 484, 529, 576]\n",
      "Function invert_dictionary has finished in 5.0067901611328125e-06 second\n",
      "{1: 'a', 2: 'b', 3: 'c', 4: 'd'}\n",
      "Function repeat_string has finished in 1.9073486328125e-06 second\n",
      "ABCDEFG*ABCDEFG*ABCDEFG*ABCDEFG*ABCDEFG*ABCDEFG*ABCDEFG*ABCDEFG*ABCDEFG*ABCDEFG*\n"
     ]
    }
   ],
   "source": [
    "@measure_time\n",
    "def add(a, b):\n",
    "    return a + b\n",
    "\n",
    "@measure_time\n",
    "def square_list(lst):\n",
    "    return [i**2 for i in lst]\n",
    "\n",
    "@measure_time\n",
    "def invert_dictionary(dct):\n",
    "    return dict(zip(dct.values(), dct.keys()))\n",
    "\n",
    "@measure_time\n",
    "def repeat_string(string, n_repeats=2):\n",
    "    return string * n_repeats\n",
    "\n",
    "\n",
    "print(add(10012401204, 3893475983475))\n",
    "print(square_list(list(range(25))))\n",
    "print(invert_dictionary({\"a\": 1, \"b\": 2, \"c\": 3, \"d\": 4}))\n",
    "print(repeat_string(\"ABCDEFG*\", n_repeats=10))"
   ]
  },
  {
   "cell_type": "markdown",
   "id": "a4720115-15d4-40ac-bd58-71fd07082d8c",
   "metadata": {},
   "source": [
    "Всё работает точно также, но синтаксис стал намного красивее. Теперь мы можем \"повесить\" `@measure_time` на любую функцию в нашей программе и она будет способна измерять время своего исполнения. Как вы уже поняли записи\n",
    "```python\n",
    "@measure_time\n",
    "def add(a, b):\n",
    "    ...\n",
    "```\n",
    "и\n",
    "```python\n",
    "add = measure_time(add)\n",
    "```\n",
    "абсолютно равнозначны"
   ]
  },
  {
   "cell_type": "markdown",
   "id": "c4514e7c-4883-43dd-bb47-a8e50139f9c0",
   "metadata": {},
   "source": [
    "## Декораторы с параметрами"
   ]
  },
  {
   "cell_type": "markdown",
   "id": "31c6d20c-7503-4793-840c-8df4b490fb2e",
   "metadata": {},
   "source": [
    "А что если мы захотим как-то управлять поведением декоратора, например, передавать ему какие-то параметры? Для демонстрации мы попытаемся написать декоратор, который заставит функцию выполняться, пока та не отработает без ошибок.\n",
    "\n",
    "Но для начала напишем такую функцию"
   ]
  },
  {
   "cell_type": "code",
   "execution_count": 80,
   "id": "3dcda554-26c1-4954-924f-3c706cf8b9c3",
   "metadata": {},
   "outputs": [],
   "source": [
    "def problematic_function(probability_of_error):\n",
    "    if random.random() < probability_of_error:\n",
    "        raise RuntimeError\n",
    "    else:\n",
    "        return \"Success\""
   ]
  },
  {
   "cell_type": "markdown",
   "id": "d7d122eb-9e67-4065-a4b4-aa04b32b2038",
   "metadata": {},
   "source": [
    "Функция принимает один аргумент - вероятность ошибки, наша задача написать декоратор, который заставит её выполняться определённое число попыток или же до успешного исполнения.\n",
    "\n",
    "Без декоратора это выглядело бы примерно так"
   ]
  },
  {
   "cell_type": "code",
   "execution_count": 108,
   "id": "4db03d7e-9947-43f2-9c69-3c4a2e43f379",
   "metadata": {},
   "outputs": [
    {
     "name": "stdout",
     "output_type": "stream",
     "text": [
      "Success\n"
     ]
    }
   ],
   "source": [
    "n_tries = 5\n",
    "for _ in range(n_tries):\n",
    "    try:\n",
    "        print(problematic_function(0.9))\n",
    "        break\n",
    "    except RuntimeError:\n",
    "        continue\n",
    "else:\n",
    "    raise RuntimeError"
   ]
  },
  {
   "cell_type": "markdown",
   "id": "5f1cbc73-f997-4156-bb47-7eb9a20a83ac",
   "metadata": {},
   "source": [
    "Давайте напишем декоратор, который будет принимать число попыток, но ещё добавим возможность исполнения до успеха"
   ]
  },
  {
   "cell_type": "code",
   "execution_count": 110,
   "id": "ccef436e-e4d4-4d57-94fe-322797b42f27",
   "metadata": {},
   "outputs": [],
   "source": [
    "def try_n_times(func, n_tries=None):\n",
    "    def inner_func(*args, **kwargs):\n",
    "        try_num = 0\n",
    "        while try_num != n_tries:\n",
    "            try:\n",
    "                return func(*args, **kwargs)\n",
    "            except RuntimeError:\n",
    "                try_num += 1\n",
    "                continue\n",
    "        else:\n",
    "            raise RuntimeError\n",
    "    return inner_func"
   ]
  },
  {
   "cell_type": "code",
   "execution_count": 111,
   "id": "55142a1f-dd24-4502-b16f-f3601d4fa18e",
   "metadata": {},
   "outputs": [
    {
     "ename": "TypeError",
     "evalue": "try_n_times() missing 1 required positional argument: 'func'",
     "output_type": "error",
     "traceback": [
      "\u001b[0;31m---------------------------------------------------------------------------\u001b[0m",
      "\u001b[0;31mTypeError\u001b[0m                                 Traceback (most recent call last)",
      "Input \u001b[0;32mIn [111]\u001b[0m, in \u001b[0;36m<module>\u001b[0;34m\u001b[0m\n\u001b[0;32m----> 1\u001b[0m \u001b[38;5;129m@try_n_times\u001b[39m\u001b[43m(\u001b[49m\u001b[43mn_tries\u001b[49m\u001b[38;5;241;43m=\u001b[39;49m\u001b[38;5;241;43m5\u001b[39;49m\u001b[43m)\u001b[49m\n\u001b[1;32m      2\u001b[0m \u001b[38;5;28;01mdef\u001b[39;00m \u001b[38;5;21mproblematic_function\u001b[39m(probability_of_error):\n\u001b[1;32m      3\u001b[0m     \u001b[38;5;28;01mif\u001b[39;00m random\u001b[38;5;241m.\u001b[39mrandom() \u001b[38;5;241m<\u001b[39m probability_of_error:\n\u001b[1;32m      4\u001b[0m         \u001b[38;5;28;01mraise\u001b[39;00m \u001b[38;5;167;01mRuntimeError\u001b[39;00m\n",
      "\u001b[0;31mTypeError\u001b[0m: try_n_times() missing 1 required positional argument: 'func'"
     ]
    }
   ],
   "source": [
    "@try_n_times(n_tries=5)\n",
    "def problematic_function(probability_of_error):\n",
    "    if random.random() < probability_of_error:\n",
    "        raise RuntimeError\n",
    "    else:\n",
    "        return \"Success\""
   ]
  },
  {
   "cell_type": "markdown",
   "id": "f1ee87e1-ff6a-490a-a1d5-3dabfaf46930",
   "metadata": {},
   "source": [
    "Не работает, давайте теперь попробуем обычный синтаксис декорирования"
   ]
  },
  {
   "cell_type": "code",
   "execution_count": 112,
   "id": "035094d5-940d-4259-a882-8668d14fac0d",
   "metadata": {},
   "outputs": [],
   "source": [
    "problematic_function = try_n_times(problematic_function, n_tries=5)"
   ]
  },
  {
   "cell_type": "code",
   "execution_count": 115,
   "id": "e39bedfc-2801-47d5-966d-37c7f7e2466e",
   "metadata": {},
   "outputs": [
    {
     "data": {
      "text/plain": [
       "'Success'"
      ]
     },
     "execution_count": 115,
     "metadata": {},
     "output_type": "execute_result"
    }
   ],
   "source": [
    "problematic_function(0.9)"
   ]
  },
  {
   "attachments": {
    "36635c80-0030-42c9-b393-f3671acf9ee1.png": {
     "image/png": "[encoded data removed]"
    }
   },
   "cell_type": "markdown",
   "id": "e35a12bf-6ac4-434c-831d-5829d6d11fa9",
   "metadata": {},
   "source": [
    "На этот раз всё работает. Дело в том, что синтаксис `@` ожидает, что декоратор будет принимать всего один аргумент - **декорируемую функцию**, поэтому мы не можем передать никакие параметры. Однако, мы очень часто видим, что декораторы в различных библиотеках могут принимать параметры, вот пример из фреймворка *Flask*\n",
    "\n",
    "![image.png](attachment:36635c80-0030-42c9-b393-f3671acf9ee1.png)\n",
    "\n",
    "Как же это работает? Давайте разберём, здесь всё будет довольно запутанно..."
   ]
  },
  {
   "cell_type": "code",
   "execution_count": 117,
   "id": "48436a16-4018-42cf-acd5-c7bf759df471",
   "metadata": {},
   "outputs": [],
   "source": [
    "def try_n_times(n_tries=None):\n",
    "    def decorator(func):\n",
    "        def inner_func(*args, **kwargs):\n",
    "            try_num = 0\n",
    "            while try_num != n_tries:\n",
    "                try:\n",
    "                    return func(*args, **kwargs)\n",
    "                except RuntimeError:\n",
    "                    try_num += 1\n",
    "                    continue\n",
    "            else:\n",
    "                raise RuntimeError\n",
    "        return inner_func\n",
    "    return decorator"
   ]
  },
  {
   "cell_type": "code",
   "execution_count": 118,
   "id": "e29d7e58-f04b-4650-b42e-99352acad3bd",
   "metadata": {},
   "outputs": [],
   "source": [
    "@try_n_times(n_tries=5)\n",
    "def problematic_function(probability_of_error):\n",
    "    if random.random() < probability_of_error:\n",
    "        raise RuntimeError\n",
    "    else:\n",
    "        return \"Success\""
   ]
  },
  {
   "cell_type": "code",
   "execution_count": 135,
   "id": "68f9ded5-3ed5-42d1-9620-670bf2126cd2",
   "metadata": {},
   "outputs": [
    {
     "data": {
      "text/plain": [
       "'Success'"
      ]
     },
     "execution_count": 135,
     "metadata": {},
     "output_type": "execute_result"
    }
   ],
   "source": [
    "problematic_function(0.9)"
   ]
  },
  {
   "cell_type": "markdown",
   "id": "6903201a-18d0-4162-a3b3-4138f5fb01ca",
   "metadata": {},
   "source": [
    "В этот раз всё работает, разберём код"
   ]
  },
  {
   "cell_type": "markdown",
   "id": "e70f60a2-0459-4e14-be33-6de02ae974ae",
   "metadata": {},
   "source": [
    "По сути здесь не произошло принципиальных изменений, мы лишь обернули наш декоратор ещё в одну функцию, но зачем?\n",
    "\n",
    "Во-первых, стоит заметить, что то, что было декоратором в предыдущем примере (функция `decorator`) теперь принимает всего один аргумент - **декорируемую функцию**, т.е. мы удовлетворили данному условию использования `@`.\n",
    "\n",
    "Во-вторых, у нас появилась новая функция - `try_n_times`. Обратите внимание на то, что она не является декоратором, так как не принимает на вход другую функцию, она принимает только параметр `n_tries`. Но зачем же она нужна? Последняя строка этой функции говорит сама за себя, она **возвращает декоратор**. Причём этот декоратор имеет заданные свойства, так как сохраняет в себе данные о количестве попыток, которые нужно произвести (`n_tries`)\n",
    "\n",
    "Так что же на самом деле произошло здесь?\n",
    "```python\n",
    "@try_n_times(n_tries=5)\n",
    "def problematic_function(probability_of_error):\n",
    "```\n",
    "Мы уже знаем, что `try_n_times` не является декоратором, но она возвращает декоратор, который будет пытаться выполнить функцию 5 раз. Т.е. запись выше в процессе выполнения раскрывается в нечто подобное\n",
    "```python\n",
    "decorator = try_n_times(n_tries=5)\n",
    "@decorator\n",
    "def problematic_function(probability_of_error):\n",
    "```"
   ]
  },
  {
   "cell_type": "markdown",
   "id": "1a29c06e-f0be-4ccc-b1ca-eab79be235fc",
   "metadata": {},
   "source": [
    "## Замыкания"
   ]
  },
  {
   "cell_type": "markdown",
   "id": "620b24d8-feb3-46ae-97e0-eb9649411f83",
   "metadata": {},
   "source": [
    "Вы уже заметили, что при использовании декораторов мы постоянно используем переменные из более внешних областей видимости во вложенных функциях. Например, параметр `n_tries` в примере выше. Декорируемая функция тоже не является исключением, так как мы используем её в более вложенных. Но это работает не только с декораторами. Рассмотрим вот такой пример..."
   ]
  },
  {
   "cell_type": "code",
   "execution_count": 156,
   "id": "8da2682d-a556-4d54-ba6b-af0b9dae6e18",
   "metadata": {},
   "outputs": [],
   "source": [
    "a = 5\n",
    "\n",
    "def wrapper(a):\n",
    "    def func():\n",
    "        return a\n",
    "    return func\n",
    "    \n",
    "func = wrapper(a)"
   ]
  },
  {
   "cell_type": "markdown",
   "id": "730fe050-7019-4b0f-ae50-54917976ff89",
   "metadata": {},
   "source": [
    "Мы вызываем функцию `wrapper` с одним аргументом, которая отдаёт нам функцию `func`, \"запомнившую\" этот аргумент и возвращающую его. Убедимся, что это работает."
   ]
  },
  {
   "cell_type": "code",
   "execution_count": 157,
   "id": "142b2337-f4ca-4234-bf1c-dd33a3c8302e",
   "metadata": {},
   "outputs": [
    {
     "data": {
      "text/plain": [
       "5"
      ]
     },
     "execution_count": 157,
     "metadata": {},
     "output_type": "execute_result"
    }
   ],
   "source": [
    "func()"
   ]
  },
  {
   "cell_type": "markdown",
   "id": "75844351-6d59-4f89-b2e9-e94fdf7e8497",
   "metadata": {},
   "source": [
    "Здесь также важно заметить, что `func` \"запоминает\" НЕ переменную `a` из глобального окружения, а переменную `a` из локального окружения функции `wrapper`. Убедимся в этом, удалив глобальную переменную `a`"
   ]
  },
  {
   "cell_type": "code",
   "execution_count": 158,
   "id": "b8f8038c-e9a2-4947-aa1d-6a54f34daa56",
   "metadata": {},
   "outputs": [
    {
     "data": {
      "text/plain": [
       "5"
      ]
     },
     "execution_count": 158,
     "metadata": {},
     "output_type": "execute_result"
    }
   ],
   "source": [
    "del a\n",
    "func()"
   ]
  },
  {
   "cell_type": "markdown",
   "id": "2d4e3d11-cdda-4ac7-98c9-6afea23ecaca",
   "metadata": {},
   "source": [
    "Функция по прежнему работает, хотя переменная была удалена, значит, что она её \"запомнила\". Ещё раз убедимся в этом, явно указав функции `func`, что нужно использовать глобальную переменную. После удаления переменной и вызова функции мы получим ошибку"
   ]
  },
  {
   "cell_type": "code",
   "execution_count": 160,
   "id": "554036b5-3dc0-4da8-9d67-285627a384d6",
   "metadata": {},
   "outputs": [
    {
     "ename": "NameError",
     "evalue": "name 'a' is not defined",
     "output_type": "error",
     "traceback": [
      "\u001b[0;31m---------------------------------------------------------------------------\u001b[0m",
      "\u001b[0;31mNameError\u001b[0m                                 Traceback (most recent call last)",
      "Input \u001b[0;32mIn [160]\u001b[0m, in \u001b[0;36m<module>\u001b[0;34m\u001b[0m\n\u001b[1;32m      9\u001b[0m func \u001b[38;5;241m=\u001b[39m wrapper(a)\n\u001b[1;32m     10\u001b[0m \u001b[38;5;28;01mdel\u001b[39;00m a\n\u001b[0;32m---> 11\u001b[0m \u001b[43mfunc\u001b[49m\u001b[43m(\u001b[49m\u001b[43m)\u001b[49m\n",
      "Input \u001b[0;32mIn [160]\u001b[0m, in \u001b[0;36mwrapper.<locals>.func\u001b[0;34m()\u001b[0m\n\u001b[1;32m      4\u001b[0m \u001b[38;5;28;01mdef\u001b[39;00m \u001b[38;5;21mfunc\u001b[39m():\n\u001b[1;32m      5\u001b[0m     \u001b[38;5;28;01mglobal\u001b[39;00m a\n\u001b[0;32m----> 6\u001b[0m     \u001b[38;5;28;01mreturn\u001b[39;00m \u001b[43ma\u001b[49m\n",
      "\u001b[0;31mNameError\u001b[0m: name 'a' is not defined"
     ]
    }
   ],
   "source": [
    "a = 5\n",
    "\n",
    "def wrapper(a):\n",
    "    def func():\n",
    "        global a\n",
    "        return a\n",
    "    return func\n",
    "    \n",
    "func = wrapper(a)\n",
    "del a\n",
    "func()"
   ]
  },
  {
   "cell_type": "markdown",
   "id": "0279a422-0fd6-42c6-aba9-3936df14b1a4",
   "metadata": {},
   "source": [
    "Такой механиханизм \"запоминания\" (а если точнее &mdash; функция использующая такие внешние переменные) называется **замыканием (closure)**.\n",
    "\n",
    "В питоне есть сборщик мусора, которые удаляет все объекты на которые не осталось ссылок. Команда `del` как раз таки удаляет эти ссылки (не объекты). Получается, что в замыкании создаются новые ссылки, так как функция спокойно работает после удаления внешней переменной. А если есть новые ссылки, получается, что эти данные можно как-то достать"
   ]
  },
  {
   "cell_type": "code",
   "execution_count": 164,
   "id": "71dc8a8b-61d5-4465-8432-739e4d6871f6",
   "metadata": {},
   "outputs": [],
   "source": [
    "a = 5\n",
    "b = [1, 2, 3]\n",
    "c = {1: 2, \"a\": \"b\"}\n",
    "\n",
    "def wrapper(a, b, c):\n",
    "    def func():\n",
    "        return a, b, c\n",
    "    return func\n",
    "    \n",
    "func = wrapper(a, b, c)"
   ]
  },
  {
   "cell_type": "markdown",
   "id": "e5c9ef54-e9a3-4e57-9f5d-fa6450329770",
   "metadata": {},
   "source": [
    "Ради интереса мы положили в замыкание чуть больше разных объектов. До списка этих объектов можно достучаться через атрибут `__closure__` у функции, но я не знаю где вам это может пригодиться :)"
   ]
  },
  {
   "cell_type": "code",
   "execution_count": 169,
   "id": "bc436fba-4b9c-4aa5-b3f3-cef705ab0fe3",
   "metadata": {},
   "outputs": [
    {
     "name": "stdout",
     "output_type": "stream",
     "text": [
      "5\n",
      "[1, 2, 3]\n",
      "{1: 2, 'a': 'b'}\n"
     ]
    }
   ],
   "source": [
    "for element_idx in range(3):\n",
    "    print(func.__closure__[element_idx].cell_contents)"
   ]
  },
  {
   "cell_type": "markdown",
   "id": "e2738964-484f-44bb-8b6c-d1a7d5fa0635",
   "metadata": {},
   "source": [
    "# Полезные декораторы"
   ]
  },
  {
   "cell_type": "markdown",
   "id": "538dde1f-10ad-4e4e-acbc-867c59975eef",
   "metadata": {},
   "source": [
    "В этом разделе мы поговорим о библиотечных и встроенных декораторах, которые довольно полезны и рекомендуются к применению. Для удобства полный список с ссылками приведён ниже:\n",
    "\n",
    "+ [classmethod и staticmethod](https://webdevblog.ru/obyasnenie-classmethod-i-staticmethod-v-python/)\n",
    "+ [functools.lru_cache](https://docs-python.ru/standart-library/modul-functools-python/dekorator-lru-cache-modulja-functools/)\n",
    "+ [dataclass](https://habr.com/ru/post/415829/)\n",
    "+ [property](https://www.programiz.com/python-programming/property)\n",
    "+ [wraps](https://stackoverflow.com/questions/308999/what-does-functools-wraps-do)"
   ]
  },
  {
   "cell_type": "markdown",
   "id": "684b1a66-f666-4de7-9656-72a245f7324b",
   "metadata": {},
   "source": [
    "## classmethod"
   ]
  },
  {
   "cell_type": "markdown",
   "id": "0f5adf36-b0e9-47d2-a284-9a5ed6e89ae5",
   "metadata": {},
   "source": [
    "Декоратор `classmethod` необходим для того, чтобы сделать метод классовым"
   ]
  },
  {
   "cell_type": "markdown",
   "id": "ea88e997-ebd1-40bb-af43-ba3a37f612c0",
   "metadata": {},
   "source": [
    "Допустим, что у нас есть класс, представляющий структуру данных похожую на словарь и мы хотим уметь создавать её разными способами"
   ]
  },
  {
   "cell_type": "code",
   "execution_count": 194,
   "id": "c6f4133a-5281-4d1d-8a11-ed774a4600a7",
   "metadata": {},
   "outputs": [],
   "source": [
    "class MyCustomMap:\n",
    "    def __init__(self, dct=None):\n",
    "        self.__map = dct\n",
    "        \n",
    "    def from_dict(self, dct):\n",
    "        return MyCustomMap(dct)\n",
    "    \n",
    "    def from_lists(self, list1, list2):\n",
    "        return MyCustomMap(dict(zip(list1, list2)))\n",
    "    \n",
    "    def from_strings(self, str1, str2):\n",
    "        return MyCustomMap(dict(zip(str1, str2)))\n",
    "    \n",
    "    def __repr__(self):\n",
    "        return f\"My cusom map {self.__map}\""
   ]
  },
  {
   "cell_type": "markdown",
   "id": "038ca24d-9779-456e-89bf-9990adceeb50",
   "metadata": {},
   "source": [
    "Очевидно, что данные методы используются только для создания объектов. Они никак не взаимодействуют с данными, хранящимися в атрибутах объектов, а значит им вовсе необязательно быть связанными с объектами. К тому же вызывать их мы сможем только от объектов, что не очень удобно."
   ]
  },
  {
   "cell_type": "code",
   "execution_count": 191,
   "id": "d3863ca3-c87f-45c3-bbda-247563c09fd5",
   "metadata": {},
   "outputs": [
    {
     "ename": "TypeError",
     "evalue": "from_strings() missing 1 required positional argument: 'str2'",
     "output_type": "error",
     "traceback": [
      "\u001b[0;31m---------------------------------------------------------------------------\u001b[0m",
      "\u001b[0;31mTypeError\u001b[0m                                 Traceback (most recent call last)",
      "Input \u001b[0;32mIn [191]\u001b[0m, in \u001b[0;36m<module>\u001b[0;34m\u001b[0m\n\u001b[0;32m----> 1\u001b[0m \u001b[43mMyCustomMap\u001b[49m\u001b[38;5;241;43m.\u001b[39;49m\u001b[43mfrom_strings\u001b[49m\u001b[43m(\u001b[49m\u001b[38;5;124;43m\"\u001b[39;49m\u001b[38;5;124;43mABCD\u001b[39;49m\u001b[38;5;124;43m\"\u001b[39;49m\u001b[43m,\u001b[49m\u001b[43m \u001b[49m\u001b[38;5;124;43m\"\u001b[39;49m\u001b[38;5;124;43mEFGH\u001b[39;49m\u001b[38;5;124;43m\"\u001b[39;49m\u001b[43m)\u001b[49m\n",
      "\u001b[0;31mTypeError\u001b[0m: from_strings() missing 1 required positional argument: 'str2'"
     ]
    }
   ],
   "source": [
    "MyCustomMap.from_strings(\"ABCD\", \"EFGH\")   # Пытаемся вызывать метод from_strings от класса. Ничего не получается, так как метод ожидает объект данного класса (self) в качестве первого аргумента"
   ]
  },
  {
   "cell_type": "code",
   "execution_count": 196,
   "id": "75f55a33-a3f5-457c-b43e-01a4aef3e0fc",
   "metadata": {},
   "outputs": [
    {
     "data": {
      "text/plain": [
       "My cusom map {'A': 'E', 'B': 'F', 'C': 'G', 'D': 'H'}"
      ]
     },
     "execution_count": 196,
     "metadata": {},
     "output_type": "execute_result"
    }
   ],
   "source": [
    "MyCustomMap().from_strings(\"ABCD\", \"EFGH\")   # Получилось, но мы бы не хотели создавать объект MyCustomMap()"
   ]
  },
  {
   "cell_type": "markdown",
   "id": "e12d54ff-26aa-4e0a-8d8b-dc8c3ce8c84f",
   "metadata": {},
   "source": [
    "Мы хотим, чтобы было как в пандасе с созданием датафрейма, примеры ниже"
   ]
  },
  {
   "cell_type": "code",
   "execution_count": 197,
   "id": "386cb9f5-f1aa-40b5-b16e-08217ebf9d4e",
   "metadata": {},
   "outputs": [
    {
     "data": {
      "text/html": [
       "<div>\n",
       "<style scoped>\n",
       "    .dataframe tbody tr th:only-of-type {\n",
       "        vertical-align: middle;\n",
       "    }\n",
       "\n",
       "    .dataframe tbody tr th {\n",
       "        vertical-align: top;\n",
       "    }\n",
       "\n",
       "    .dataframe thead th {\n",
       "        text-align: right;\n",
       "    }\n",
       "</style>\n",
       "<table border=\"1\" class=\"dataframe\">\n",
       "  <thead>\n",
       "    <tr style=\"text-align: right;\">\n",
       "      <th></th>\n",
       "      <th>Column1</th>\n",
       "    </tr>\n",
       "  </thead>\n",
       "  <tbody>\n",
       "    <tr>\n",
       "      <th>0</th>\n",
       "      <td>1</td>\n",
       "    </tr>\n",
       "    <tr>\n",
       "      <th>1</th>\n",
       "      <td>2</td>\n",
       "    </tr>\n",
       "  </tbody>\n",
       "</table>\n",
       "</div>"
      ],
      "text/plain": [
       "   Column1\n",
       "0        1\n",
       "1        2"
      ]
     },
     "execution_count": 197,
     "metadata": {},
     "output_type": "execute_result"
    }
   ],
   "source": [
    "import pandas as pd\n",
    "\n",
    "\n",
    "pd.DataFrame.from_dict({\"Column1\": [1, 2]})"
   ]
  },
  {
   "cell_type": "code",
   "execution_count": 198,
   "id": "1375520c-67c1-4164-9d9b-177c583985d6",
   "metadata": {},
   "outputs": [
    {
     "data": {
      "text/html": [
       "<div>\n",
       "<style scoped>\n",
       "    .dataframe tbody tr th:only-of-type {\n",
       "        vertical-align: middle;\n",
       "    }\n",
       "\n",
       "    .dataframe tbody tr th {\n",
       "        vertical-align: top;\n",
       "    }\n",
       "\n",
       "    .dataframe thead th {\n",
       "        text-align: right;\n",
       "    }\n",
       "</style>\n",
       "<table border=\"1\" class=\"dataframe\">\n",
       "  <thead>\n",
       "    <tr style=\"text-align: right;\">\n",
       "      <th></th>\n",
       "      <th>0</th>\n",
       "      <th>1</th>\n",
       "    </tr>\n",
       "  </thead>\n",
       "  <tbody>\n",
       "    <tr>\n",
       "      <th>0</th>\n",
       "      <td>A</td>\n",
       "      <td>1</td>\n",
       "    </tr>\n",
       "    <tr>\n",
       "      <th>1</th>\n",
       "      <td>B</td>\n",
       "      <td>2</td>\n",
       "    </tr>\n",
       "  </tbody>\n",
       "</table>\n",
       "</div>"
      ],
      "text/plain": [
       "   0  1\n",
       "0  A  1\n",
       "1  B  2"
      ]
     },
     "execution_count": 198,
     "metadata": {},
     "output_type": "execute_result"
    }
   ],
   "source": [
    "pd.DataFrame.from_records([(\"A\", \"1\"), (\"B\", 2)])"
   ]
  },
  {
   "cell_type": "markdown",
   "id": "d3e69215-af9a-4b75-ab32-85531c482f7c",
   "metadata": {},
   "source": [
    "Здесь методы `from_dict` и `from_records` являются **методами класса** `DataFrame` и для их вызова не обязательно иметь объект. Сделаем также с нашими методами."
   ]
  },
  {
   "cell_type": "code",
   "execution_count": 206,
   "id": "e802517d-5e13-4b29-bde2-bed024cbfc2b",
   "metadata": {},
   "outputs": [],
   "source": [
    "class MyCustomMap:\n",
    "    def __init__(self, dct=None):\n",
    "        self.__map = dct\n",
    "    \n",
    "    @classmethod\n",
    "    def from_dict(cls, dct):\n",
    "        return cls(dct)\n",
    "    \n",
    "    @classmethod\n",
    "    def from_lists(cls, list1, list2):\n",
    "        return cls(dict(zip(list1, list2)))\n",
    "\n",
    "    @classmethod\n",
    "    def from_strings(cls, str1, str2):\n",
    "        return cls(dict(zip(str1, str2)))\n",
    "    \n",
    "    def __repr__(self):\n",
    "        return f\"My cusom map {self.__map}\""
   ]
  },
  {
   "cell_type": "code",
   "execution_count": 204,
   "id": "2bfe7483-7b8c-40fb-af0c-2c5684017de7",
   "metadata": {},
   "outputs": [
    {
     "data": {
      "text/plain": [
       "My cusom map {'A': 'E', 'B': 'F', 'C': 'G', 'D': 'H'}"
      ]
     },
     "execution_count": 204,
     "metadata": {},
     "output_type": "execute_result"
    }
   ],
   "source": [
    "MyCustomMap.from_strings(\"ABCD\", \"EFGH\")"
   ]
  },
  {
   "cell_type": "markdown",
   "id": "2ae7dfea-5ccc-4178-bc19-37d4bf52f628",
   "metadata": {},
   "source": [
    "Всё отлично работает, мы всего лишь указали декоратор `classmethod` для методов, которые мы хотели сделать классовыми.\n",
    "\n",
    "❗Обратите внимание, что методы класса ведут себя немного по другому. Первым аргументом к ним попадает **не объект** данного класса, а **сам класс**, поэтому первый аргумент у методов класса принято называть `cls` вместо `self` (cls - сокращение от **cl**as**s**). Используя эту особенность, мы также смогли избавиться от явного указания класса, объект которого мы хотим создать. В нашей ситуации `cls` во всех методах это `MyCustomMap`.\n",
    "\n",
    "При этом всём классовый метод можно вызвать и от объекта, ничего не поломается."
   ]
  },
  {
   "cell_type": "code",
   "execution_count": 207,
   "id": "a8039d57-ccd3-4f48-8c20-4d59a1456e03",
   "metadata": {},
   "outputs": [
    {
     "name": "stdout",
     "output_type": "stream",
     "text": [
      "<class 'type'>\n"
     ]
    },
    {
     "data": {
      "text/plain": [
       "My cusom map {'A': 'E', 'B': 'F', 'C': 'G', 'D': 'H'}"
      ]
     },
     "execution_count": 207,
     "metadata": {},
     "output_type": "execute_result"
    }
   ],
   "source": [
    "MyCustomMap().from_strings(\"ABCD\", \"EFGH\")"
   ]
  },
  {
   "cell_type": "markdown",
   "id": "baa41300-b9b0-4c8d-8c5c-df622799b754",
   "metadata": {},
   "source": [
    "## staticmethod"
   ]
  },
  {
   "cell_type": "markdown",
   "id": "2b173dc2-9287-4ae8-a49d-aa2f0828ae4e",
   "metadata": {},
   "source": [
    "Сделаем класс, собирающий информацию о загрузке и температуре процессора в течение времени"
   ]
  },
  {
   "cell_type": "code",
   "execution_count": 221,
   "id": "5d1bc5f2-66ca-4122-a6d2-6dbf81505644",
   "metadata": {},
   "outputs": [],
   "source": [
    "import psutil\n",
    "from datetime import datetime\n",
    "\n",
    "\n",
    "class CPUMonitor:\n",
    "    def __init__(self):\n",
    "        self._times = []\n",
    "        self._loads = []\n",
    "        self._temps = []\n",
    "        \n",
    "    def record(self, seconds):\n",
    "        start_time = datetime.now()\n",
    "        print(\"Recording started...\")\n",
    "        while True:\n",
    "            self._times.append(datetime.now())\n",
    "            cpu_load = self.get_cpu_load()\n",
    "            self._loads.append(cpu_load)\n",
    "            cpu_temp = self.get_cpu_temperature()\n",
    "            self._temps.append(cpu_temp)\n",
    "            print(f\"\\rRecording in progress... Current CPU load: {cpu_load}%, Current CPU temperature: {cpu_temp}\", end=\"\")\n",
    "            if (self._times[-1] - start_time).total_seconds() > seconds:\n",
    "                print(\"\\nRecording stopped\")\n",
    "                break\n",
    "                \n",
    "    def reset(self):\n",
    "        self._times = []\n",
    "        self._loads = []\n",
    "        self._temps = []\n",
    "        \n",
    "    def get_cpu_temperature(self):\n",
    "        tdie = psutil.sensors_temperatures()[\"k10temp\"][1].current\n",
    "        return tdie\n",
    "    \n",
    "    def get_cpu_load(self):\n",
    "        load_percent = psutil.cpu_percent()\n",
    "        return load_percent"
   ]
  },
  {
   "cell_type": "code",
   "execution_count": 223,
   "id": "58d26fdf-3c02-4f8c-9792-4dec85bb8b6b",
   "metadata": {},
   "outputs": [
    {
     "name": "stdout",
     "output_type": "stream",
     "text": [
      "Recording started...\n",
      "Recording in progress... Current CPU load: 0.0%, Current CPU temperature: 40.0255\n",
      "Recording stopped\n"
     ]
    }
   ],
   "source": [
    "monitor = CPUMonitor()\n",
    "monitor.record(5)"
   ]
  },
  {
   "cell_type": "markdown",
   "id": "98d5df4d-177d-47d4-b10c-8025e49b1b0a",
   "metadata": {},
   "source": [
    "Но нас интересует не столько сам класс, сколько методы `get_cpu_temperature` и `get_cpu_load`, что же в них необычного?\n",
    "\n",
    "Давайте посмотрим на них внимательно. Оба метода в данный момент связаны с объеком класса, но никак это не используют (т.е. никак не взаимодействуют с объектом с которым связаны). Логично тогда предположить, что из этих методов можно сделать методы класса при помощи декоратора о котором мы говорили раньше. В таком случае методы будут связаны с классом, но опять никак не будут использовать эту связь.\n",
    "\n",
    "Получается так, что эти методы вообще не могут иметь никакой связи с классом и его объектами и, видимо, просто стоило сделать их них отдельные функции... Или всё таки нет...?\n",
    "\n",
    "Дело в том, что эти методы действительно не связаны с классом какими-то общими данными, однако **по смыслу** функционал методов прекрасно интегрируется в класс. Т.е. нахождение методов для получения параметров процессора в классе для мониторинга этих параметров это очень уместное решение. Если бы эти методы на самом деле были отдельными функциями, то нам не удалось бы красиво инкапсулировать всё в один класс. Они связаны с классом **по смыслу**"
   ]
  },
  {
   "cell_type": "markdown",
   "id": "57129a2c-82ff-4a3c-8994-a4e09b8859b1",
   "metadata": {},
   "source": [
    "Специально для таких методов в питоне есть декоратор `staticmethod`, он позволяет превращать методы в **статические**"
   ]
  },
  {
   "cell_type": "code",
   "execution_count": 232,
   "id": "2c72d1b7-455b-40f2-a9e1-f7b2d0f557f4",
   "metadata": {},
   "outputs": [],
   "source": [
    "class CPUMonitor:\n",
    "    def __init__(self):\n",
    "        self._times = []\n",
    "        self._loads = []\n",
    "        self._temps = []\n",
    "        \n",
    "    def record(self, seconds):\n",
    "        start_time = datetime.now()\n",
    "        print(\"Recording started...\")\n",
    "        while True:\n",
    "            self._times.append(datetime.now())\n",
    "            cpu_load = self.get_cpu_load()\n",
    "            self._loads.append(cpu_load)\n",
    "            cpu_temp = self.get_cpu_temperature()\n",
    "            self._temps.append(cpu_temp)\n",
    "            print(f\"\\rRecording in progress... Current CPU load: {cpu_load}%, Current CPU temperature: {cpu_temp}\", end=\"\")\n",
    "            if (self._times[-1] - start_time).total_seconds() > seconds:\n",
    "                print(\"\\nRecording stopped\")\n",
    "                break\n",
    "                \n",
    "    def reset(self):\n",
    "        self._times = []\n",
    "        self._loads = []\n",
    "        self._temps = []\n",
    "    \n",
    "    @staticmethod\n",
    "    def get_cpu_temperature(format_=False):\n",
    "        tdie = psutil.sensors_temperatures()[\"k10temp\"][1].current\n",
    "        if format_:\n",
    "            tdie = str(tdie) + \"°C\"\n",
    "        return tdie\n",
    "    \n",
    "    @staticmethod\n",
    "    def get_cpu_load(format_=False):\n",
    "        load_percent = psutil.cpu_percent()\n",
    "        if format_:\n",
    "            load_percent = str(load_percent) + \"%\"\n",
    "        return load_percent"
   ]
  },
  {
   "cell_type": "code",
   "execution_count": 233,
   "id": "b2c2dc7a-c367-4f1c-b9a9-05942bc5a5ae",
   "metadata": {},
   "outputs": [
    {
     "name": "stdout",
     "output_type": "stream",
     "text": [
      "Recording started...\n",
      "Recording in progress... Current CPU load: 0.0%, Current CPU temperature: 38.2555\n",
      "Recording stopped\n"
     ]
    }
   ],
   "source": [
    "monitor = CPUMonitor()\n",
    "monitor.record(5)"
   ]
  },
  {
   "cell_type": "markdown",
   "id": "6c99ce60-22ba-4e9b-8b42-50c2ffc6db39",
   "metadata": {},
   "source": [
    "Статические методы работают просто как функции, привязанные к классам. Т.е. мы можем обращаться к ним через точку от класса или объекта, но никак не можем получить изнутри метода данные об объекте или классе.\n",
    "\n",
    "❗Статические методы **не принимают** объект или класс первым аргументом, они работают как обычные функции. Их можно вызывать от объектов и классов одинаково, передавая аргументы \"как есть\""
   ]
  },
  {
   "cell_type": "code",
   "execution_count": 241,
   "id": "d7e16927-67c0-4437-805b-38678ea7faf4",
   "metadata": {},
   "outputs": [
    {
     "name": "stdout",
     "output_type": "stream",
     "text": [
      "34.125°C\n",
      "34.25°C\n",
      "0.7\n",
      "0.0\n"
     ]
    }
   ],
   "source": [
    "print(CPUMonitor.get_cpu_temperature(format_=True))\n",
    "print(CPUMonitor().get_cpu_temperature(format_=True))\n",
    "print(CPUMonitor.get_cpu_load())\n",
    "print(CPUMonitor().get_cpu_load())"
   ]
  },
  {
   "cell_type": "markdown",
   "id": "b232930e-7172-4127-98a9-16fc281899fb",
   "metadata": {},
   "source": [
    "## functools.lru_cache"
   ]
  },
  {
   "cell_type": "markdown",
   "id": "75a50076-18b2-479d-8405-e74f06a70e06",
   "metadata": {},
   "source": [
    "Возьмём самый избитый пример - расчёт чисел Фиббоначи через рекурсию"
   ]
  },
  {
   "cell_type": "code",
   "execution_count": 291,
   "id": "df683ba5-5924-4440-985f-1fd14c99d2b7",
   "metadata": {},
   "outputs": [],
   "source": [
    "def fibonacсi(n):\n",
    "    return fibonacсi(n - 1) + fibonacсi(n - 2) if n > 2 else 1"
   ]
  },
  {
   "cell_type": "code",
   "execution_count": 292,
   "id": "e05aa037-e589-4132-a876-12ef2705a522",
   "metadata": {},
   "outputs": [
    {
     "name": "stdout",
     "output_type": "stream",
     "text": [
      "CPU times: user 3.68 s, sys: 0 ns, total: 3.68 s\n",
      "Wall time: 3.69 s\n"
     ]
    },
    {
     "data": {
      "text/plain": [
       "39088169"
      ]
     },
     "execution_count": 292,
     "metadata": {},
     "output_type": "execute_result"
    }
   ],
   "source": [
    "%%time\n",
    "fibonacсi(38)"
   ]
  },
  {
   "cell_type": "markdown",
   "id": "fec3b7f7-3a9f-4608-afa6-310f474267d6",
   "metadata": {},
   "source": [
    "Все вы прекрасно знаете, что этот код работает долго и что в процессе выполнения образуется целое дерево рекурсивных вызовов, вычисляющих одно и то же.\n",
    "\n",
    "На ум приходит одно решение - кэшировать результаты. В таком случае функция сначала проверит, есть ли в кэше данные о результате выполнения с текущими аргументами. Если такие данные есть то они возвращаются без исполнения функции.\n",
    "\n",
    "Подобное кэширование в питоне осуществляет декоратор `lru_cache` из модуля `functools`."
   ]
  },
  {
   "cell_type": "code",
   "execution_count": 293,
   "id": "464d6a32-d2e4-4abf-b9c2-3700124c7f9a",
   "metadata": {},
   "outputs": [],
   "source": [
    "from functools import lru_cache\n",
    "\n",
    "\n",
    "@lru_cache\n",
    "def fibonacсi(n):\n",
    "    return fibonacсi(n - 1) + fibonacсi(n - 2) if n > 2 else 1"
   ]
  },
  {
   "cell_type": "code",
   "execution_count": 294,
   "id": "d74ff5e8-eb00-4e9c-b110-97bde982b83f",
   "metadata": {},
   "outputs": [
    {
     "name": "stdout",
     "output_type": "stream",
     "text": [
      "CPU times: user 32 µs, sys: 0 ns, total: 32 µs\n",
      "Wall time: 35.8 µs\n"
     ]
    },
    {
     "data": {
      "text/plain": [
       "39088169"
      ]
     },
     "execution_count": 294,
     "metadata": {},
     "output_type": "execute_result"
    }
   ],
   "source": [
    "%%time\n",
    "fibonacсi(38)"
   ]
  },
  {
   "cell_type": "markdown",
   "id": "fbebebce-1b5c-48d8-8a64-1536af843657",
   "metadata": {},
   "source": [
    "Время выполнения функции уменьшилось в $10^5$ раз за счёт кэширования результатов!\n",
    "\n",
    "`lru_cache` так же позволяет ограничить размера кэша. В таком случае туда динамически будут загружаться самые часто используемые значения. Это может быть полезным, если есть необходимость экономить память"
   ]
  },
  {
   "cell_type": "code",
   "execution_count": 309,
   "id": "42d77081-6dee-4fa3-8a98-5327b3c8bf6a",
   "metadata": {},
   "outputs": [],
   "source": [
    "@lru_cache(maxsize=128)\n",
    "def fibonacсi(n):\n",
    "    return fibonacсi(n - 1) + fibonacсi(n - 2) if n > 2 else 1"
   ]
  },
  {
   "cell_type": "code",
   "execution_count": 310,
   "id": "cee61e80-763f-4477-9e31-32fb59a84d63",
   "metadata": {},
   "outputs": [
    {
     "name": "stdout",
     "output_type": "stream",
     "text": [
      "CPU times: user 725 µs, sys: 0 ns, total: 725 µs\n",
      "Wall time: 735 µs\n"
     ]
    },
    {
     "data": {
      "text/plain": [
       "43466557686937456435688527675040625802564660517371780402481729089536555417949051890403879840079255169295922593080322634775209689623239873322471161642996440906533187938298969649928516003704476137795166849228875"
      ]
     },
     "execution_count": 310,
     "metadata": {},
     "output_type": "execute_result"
    }
   ],
   "source": [
    "%%time\n",
    "fibonacci(1000)"
   ]
  },
  {
   "cell_type": "code",
   "execution_count": 311,
   "id": "ca5d93de-9f5b-4cdb-a068-40cd88fc6ce6",
   "metadata": {},
   "outputs": [],
   "source": [
    "@lru_cache\n",
    "def fibonacсi(n):\n",
    "    return fibonacсi(n - 1) + fibonacсi(n - 2) if n > 2 else 1"
   ]
  },
  {
   "cell_type": "code",
   "execution_count": 312,
   "id": "784d6ac1-0cc0-4f68-8f52-610cd04b0677",
   "metadata": {},
   "outputs": [
    {
     "name": "stdout",
     "output_type": "stream",
     "text": [
      "CPU times: user 739 µs, sys: 0 ns, total: 739 µs\n",
      "Wall time: 747 µs\n"
     ]
    },
    {
     "data": {
      "text/plain": [
       "43466557686937456435688527675040625802564660517371780402481729089536555417949051890403879840079255169295922593080322634775209689623239873322471161642996440906533187938298969649928516003704476137795166849228875"
      ]
     },
     "execution_count": 312,
     "metadata": {},
     "output_type": "execute_result"
    }
   ],
   "source": [
    "%%time\n",
    "fibonacci(1000)"
   ]
  },
  {
   "cell_type": "markdown",
   "id": "dfcc4944-daad-4c45-81c5-eee106c5c0e5",
   "metadata": {},
   "source": [
    "`lru_cache` мы можем использовать вообще для любых функций! "
   ]
  },
  {
   "cell_type": "markdown",
   "id": "d6a1027d-e60a-4dce-9584-0365196343ae",
   "metadata": {
    "tags": []
   },
   "source": [
    "## dataclass"
   ]
  },
  {
   "cell_type": "markdown",
   "id": "80bb4497-dd6a-4215-9a0c-107546e61cc3",
   "metadata": {},
   "source": [
    "Очень часто получается так, что нам нужно создавать некоторые структуры данных при помощи классов. При это они не имеют никаких методов и нужны исключительно для хранения данных. Например"
   ]
  },
  {
   "cell_type": "code",
   "execution_count": 316,
   "id": "0476a05d-dd57-4a56-b354-8c9832f3543c",
   "metadata": {},
   "outputs": [],
   "source": [
    "from datetime import date\n",
    "\n",
    "\n",
    "class User:\n",
    "    def __init__(self, first_name, last_name, birthday, email, nickname, telephone):\n",
    "        self.first_name = first_name\n",
    "        self.last_name = last_name\n",
    "        self.birthday = birthday\n",
    "        self.email = email\n",
    "        self.nickname = nickname\n",
    "        self.telephone = telephone\n",
    "        \n",
    "user = User(\"Иван\", \"Иванов\", date(1990, 1, 1), \"ivan.ivanov@somemailbox.com\", \"Ivan12345\", \"+79999999999\")"
   ]
  },
  {
   "cell_type": "markdown",
   "id": "fb479724-fa7c-432a-9ca8-35be8b7ab6d4",
   "metadata": {},
   "source": [
    "Запись класса выглядит очень громоздко, в ней много лишних элементов, к тому же у объектов нет удобного встроенного отображения"
   ]
  },
  {
   "cell_type": "code",
   "execution_count": 317,
   "id": "bf674a93-b632-4950-bb70-9ee541c4f8d7",
   "metadata": {},
   "outputs": [
    {
     "data": {
      "text/plain": [
       "<__main__.User at 0x7f439e49d310>"
      ]
     },
     "execution_count": 317,
     "metadata": {},
     "output_type": "execute_result"
    }
   ],
   "source": [
    "user"
   ]
  },
  {
   "cell_type": "markdown",
   "id": "647dcffd-23ff-444f-930a-389c56ca6e93",
   "metadata": {},
   "source": [
    "Для упрощения создания классов нам приходит на помощь декоратор `dataclass`. И да, декорировать можно не только функции, а любые *Callable* объекты, в том числе классы. Синтаксис создания классов при этом немного преображается"
   ]
  },
  {
   "cell_type": "code",
   "execution_count": 323,
   "id": "2e29cacb-bfd5-4f5a-9568-20f0d1214dc2",
   "metadata": {},
   "outputs": [
    {
     "data": {
      "text/plain": [
       "User(first_name='Иван', last_name='Иванов', birthday=datetime.date(1990, 1, 1), email='ivan.ivanov@somemailbox.com', nickname='Ivan12345', telephone='+79999999999')"
      ]
     },
     "execution_count": 323,
     "metadata": {},
     "output_type": "execute_result"
    }
   ],
   "source": [
    "from datetime import date\n",
    "from dataclasses import dataclass\n",
    "\n",
    "\n",
    "@dataclass\n",
    "class User:\n",
    "    first_name: str\n",
    "    last_name: str\n",
    "    birthday: date\n",
    "    email: str\n",
    "    nickname: str\n",
    "    telephone: str\n",
    "    \n",
    "user = User(\"Иван\", \"Иванов\", date(1990, 1, 1), \"ivan.ivanov@somemailbox.com\", \"Ivan12345\", \"+79999999999\")\n",
    "user"
   ]
  },
  {
   "cell_type": "markdown",
   "id": "d7a60dd2-8046-4294-b734-cfc56fa13cea",
   "metadata": {},
   "source": [
    "Мы видим, что синтаксис стал намного проще. Теперь не нужно создавать конструктор с избыточным количеством имён, к тому же у объекта сразу появляется удобное отображение, благодаря неявному добавлению метода `__repr__` в ходе декорирования.\n",
    "\n",
    "Если вам нужны классы только для хранения каких-то структур данных &mdash; датаклассы ваш выбор!\n",
    "\n",
    "❗Обратите внимание, что аннотации типов в датаклассах обязательны ❗\n",
    "\n",
    "Вы по прежнему можете передать туда любые значения, но обязаны указать их предполагаемый тип при создании класса\n",
    "\n",
    "В датаклассы можно добавлять методы, но так, как правило, не делают"
   ]
  },
  {
   "cell_type": "code",
   "execution_count": 326,
   "id": "89438738-0044-4c52-b89b-d3917fb150e6",
   "metadata": {},
   "outputs": [],
   "source": [
    "@dataclass\n",
    "class User:\n",
    "    first_name: str\n",
    "    last_name: str\n",
    "    birthday: date\n",
    "    email: str\n",
    "    nickname: str\n",
    "    telephone: str\n",
    "    \n",
    "    def get_email(self):\n",
    "        return self.email"
   ]
  },
  {
   "cell_type": "code",
   "execution_count": 327,
   "id": "5d0e38a6-5729-4cc6-9ac4-295097830736",
   "metadata": {},
   "outputs": [
    {
     "data": {
      "text/plain": [
       "'ivan.ivanov@somemailbox.com'"
      ]
     },
     "execution_count": 327,
     "metadata": {},
     "output_type": "execute_result"
    }
   ],
   "source": [
    "user = User(\"Иван\", \"Иванов\", date(1990, 1, 1), \"ivan.ivanov@somemailbox.com\", \"Ivan12345\", \"+79999999999\")\n",
    "user.get_email()"
   ]
  }
 ],
 "metadata": {
  "kernelspec": {
   "display_name": "Python 3 (ipykernel)",
   "language": "python",
   "name": "python3"
  },
  "language_info": {
   "codemirror_mode": {
    "name": "ipython",
    "version": 3
   },
   "file_extension": ".py",
   "mimetype": "text/x-python",
   "name": "python",
   "nbconvert_exporter": "python",
   "pygments_lexer": "ipython3",
   "version": "3.9.7"
  }
 },
 "nbformat": 4,
 "nbformat_minor": 5
}
