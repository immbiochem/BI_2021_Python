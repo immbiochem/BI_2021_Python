{
 "cells": [
  {
   "cell_type": "markdown",
   "metadata": {},
   "source": [
    "### Основные задания (17 баллов)\n",
    "\n",
    "1. Напишите простой декоратор, подменивающий возвращаемое значение декорируемой функции на время её выполнения (Example_1). Для измерения времени воспользуйтесь модулем time. (3 балла)\n",
    "\n",
    "\n",
    "2. Напишите декоратор, позволяющий логировать запуски функций, распечатывая входные данные и тип возвращаемых значений (Example_2). Для получения имени класса в виде строки можно воспользоваться атрибутом __name__. (7 баллов)\n",
    "\n",
    "\n",
    "3. Сделайте декоратор - русскую рулетку, который сделает так, чтобы декорируемая функция с заданной вероятностью заменяла возвращаемое значение на переданное декоратору (Example_3). (7 баллов)\n",
    "\n",
    "### Дополнительные задания (21 балл)\n",
    "\n",
    "\n",
    "1. Реализуйте декоратор аналогичный staticmethod без использования любых модулей (7 баллов)\n",
    "2. Реализуйте декоратор аналогичный dataclass.  Весь функционал сделать как у стандартного dataclass за исключением того, что он не должен принимать дополнительные аргументы. При работе с декораторами классов очень полезными могут оказаться встроенные в питон функции setattr и getattr. Также вам нужно будет найти способ \"распарсить\" аннотации типов. (14 баллов)\n",
    "\n",
    "#### Общие требования:\n",
    "\n",
    "Наличие README с описанием и инструкцией по использованию поощрается\n",
    "\n",
    "Сторонние библиотеки указываем в requirements.txt (но тут можно обойтись и без них)\n",
    "\n",
    "Форма сдачи - ссылка на пулл реквест в master/main ветку вашего репозитория BI_2021_Python\n",
    "\n",
    "Решение оформить в виде Python скрипта\n",
    "\n",
    "##### В скрипте должен быть пример использования (можно сделать его в блоке if __name__ == \"__main__\")\n",
    "\n",
    "Ваши декораторы должны работать с любыми функциями независимо от их аргументов и возвращаемых значений\n",
    "\n",
    "\n",
    "К заданию также прикреплён конспект в виде ноутбука, освежить в памяти материал лекции можно по нему. На лекции мы не успели изучить декораторы staticmethod, classmethod и wraps. Обязательно почитайте про них, они очень полезные!"
   ]
  },
  {
   "cell_type": "markdown",
   "metadata": {},
   "source": [
    "### Задание 1"
   ]
  },
  {
   "cell_type": "code",
   "execution_count": 1,
   "metadata": {},
   "outputs": [],
   "source": [
    "import time"
   ]
  },
  {
   "cell_type": "code",
   "execution_count": 20,
   "metadata": {},
   "outputs": [],
   "source": [
    "def time_this(func):\n",
    "    def inner_function(*args, **kwargs):\n",
    "        start = time.time()\n",
    "        func(*args, **kwargs)  # wait for the function to complete\n",
    "        end = time.time()\n",
    "        return end - start\n",
    "    return inner_function"
   ]
  },
  {
   "cell_type": "markdown",
   "metadata": {},
   "source": [
    "##### Пример использования"
   ]
  },
  {
   "cell_type": "code",
   "execution_count": 21,
   "metadata": {},
   "outputs": [],
   "source": [
    "@time_this\n",
    "def some_function(a, b, c, d, e=0, f=2, g='3'):\n",
    "    time.sleep(a)\n",
    "    time.sleep(b)\n",
    "    time.sleep(c)\n",
    "    time.sleep(d)\n",
    "    time.sleep(e)\n",
    "    time.sleep(f)\n",
    "    return g"
   ]
  },
  {
   "cell_type": "code",
   "execution_count": 22,
   "metadata": {},
   "outputs": [
    {
     "data": {
      "text/plain": [
       "21.05027937889099"
      ]
     },
     "execution_count": 22,
     "metadata": {},
     "output_type": "execute_result"
    }
   ],
   "source": [
    "some_function(1, 2, 3, 4, e=5, f=6, g='99999')"
   ]
  },
  {
   "cell_type": "markdown",
   "metadata": {},
   "source": [
    "### Задание 2"
   ]
  },
  {
   "cell_type": "code",
   "execution_count": 14,
   "metadata": {},
   "outputs": [],
   "source": [
    "def function_logging(func):\n",
    "    def inner_function(*args, **kwargs):\n",
    "        result = func(*args, **kwargs)\n",
    "        return_type = str(type(result)).split(\"'\")[1]\n",
    "        if args and kwargs:\n",
    "            print(f'Function {func.__name__} is called with position arguments: {args} and keyword arguments {kwargs}')\n",
    "        elif args:\n",
    "            print(f'Function {func.__name__} is called with position arguments: {args}')\n",
    "        else:\n",
    "            print(f'Function {func.__name__} is called with keyword arguments: {kwargs}')\n",
    "        print(f'Function {func.__name__} returns output of type {return_type}')\n",
    "        return result\n",
    "    return inner_function"
   ]
  },
  {
   "cell_type": "markdown",
   "metadata": {},
   "source": [
    "##### Пример использования"
   ]
  },
  {
   "cell_type": "code",
   "execution_count": 15,
   "metadata": {},
   "outputs": [],
   "source": [
    "@function_logging\n",
    "def func3(a, b, c, d=4):\n",
    "    return [a+b*c] * d"
   ]
  },
  {
   "cell_type": "code",
   "execution_count": 16,
   "metadata": {},
   "outputs": [
    {
     "name": "stdout",
     "output_type": "stream",
     "text": [
      "Function func3 is called with position arguments: (1, 2) and keyword arguments {'c': 3, 'd': 2}\n",
      "Function func3 returns output of type list\n",
      "[7, 7]\n",
      "\n"
     ]
    }
   ],
   "source": [
    "print(func3(1, 2, c=3, d=2), end='\\n\\n')"
   ]
  },
  {
   "cell_type": "markdown",
   "metadata": {},
   "source": [
    "### Задание 3"
   ]
  },
  {
   "cell_type": "code",
   "execution_count": 2,
   "metadata": {},
   "outputs": [],
   "source": [
    "import random\n",
    "import requests"
   ]
  },
  {
   "cell_type": "code",
   "execution_count": 43,
   "metadata": {},
   "outputs": [],
   "source": [
    "def russian_roulette_decorator(probability=0.2, return_value=\"(/¯◡ ‿ ◡)/¯☆*\"):\n",
    "    def decorator(func):\n",
    "        def inner_func(*args, **kwargs):\n",
    "            if round(random.uniform(0, 1), 2) > probability:\n",
    "                return func(*args, **kwargs)\n",
    "            return return_value\n",
    "        return inner_func\n",
    "    return decorator"
   ]
  },
  {
   "cell_type": "markdown",
   "metadata": {},
   "source": [
    "##### Пример использования"
   ]
  },
  {
   "cell_type": "code",
   "execution_count": 44,
   "metadata": {},
   "outputs": [],
   "source": [
    "@russian_roulette_decorator(probability=0.2, return_value=\"Ooops, your output has been stolen!\")\n",
    "def make_request(url):\n",
    "    return requests.get(url)"
   ]
  },
  {
   "cell_type": "code",
   "execution_count": 45,
   "metadata": {},
   "outputs": [
    {
     "name": "stdout",
     "output_type": "stream",
     "text": [
      "<Response [200]>\n",
      "Ooops, your output has been stolen!\n",
      "<Response [200]>\n",
      "<Response [200]>\n",
      "<Response [200]>\n",
      "<Response [200]>\n",
      "<Response [200]>\n",
      "<Response [200]>\n",
      "<Response [200]>\n",
      "<Response [200]>\n"
     ]
    }
   ],
   "source": [
    "for _ in range(10):\n",
    "    print(make_request('https://google.com'))"
   ]
  },
  {
   "cell_type": "code",
   "execution_count": 46,
   "metadata": {},
   "outputs": [],
   "source": [
    "@russian_roulette_decorator()\n",
    "def give_something(something):\n",
    "    return something"
   ]
  },
  {
   "cell_type": "code",
   "execution_count": 47,
   "metadata": {},
   "outputs": [
    {
     "name": "stdout",
     "output_type": "stream",
     "text": [
      "(/¯◡ ‿ ◡)/¯☆*\n",
      "Hellow, world!\n",
      "(/¯◡ ‿ ◡)/¯☆*\n",
      "Hellow, world!\n",
      "Hellow, world!\n",
      "Hellow, world!\n",
      "Hellow, world!\n",
      "Hellow, world!\n",
      "(/¯◡ ‿ ◡)/¯☆*\n",
      "Hellow, world!\n"
     ]
    }
   ],
   "source": [
    "for _ in range(10):\n",
    "    print(give_something('Hellow, world!'))"
   ]
  }
 ],
 "metadata": {
  "kernelspec": {
   "display_name": "Python 3",
   "language": "python",
   "name": "python3"
  },
  "language_info": {
   "codemirror_mode": {
    "name": "ipython",
    "version": 3
   },
   "file_extension": ".py",
   "mimetype": "text/x-python",
   "name": "python",
   "nbconvert_exporter": "python",
   "pygments_lexer": "ipython3",
   "version": "3.8.5"
  }
 },
 "nbformat": 4,
 "nbformat_minor": 4
}
