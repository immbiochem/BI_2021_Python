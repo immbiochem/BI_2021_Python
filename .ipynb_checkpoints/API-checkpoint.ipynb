{
 "cells": [
  {
   "cell_type": "markdown",
   "metadata": {},
   "source": [
    "1. Базовый вариант (25 баллов) \n",
    "\n",
    "Здесь я предлагаю вам сделать API для GitHub. У гитхаба есть публичный API, но для учебных целей мы сделаем велосипед.\n",
    "\n",
    "Реализуйте следующие функции:\n",
    "-get_user_info(username) - возвращает словарь с информацией о юзере. Ключи: имя (которое НЕ никнейм), организация, местоположение, число подписчиков, число репозиториев.\n",
    "\n",
    "-get_user_repositories(username) - возвращает список публичных репозиториев пользователя в виде списка словарей. Ключи: юзер, имя репозитория, язык.\n",
    "\n",
    "-list_repository_contents(username, repository, repository_path) - возвращает список файлов и папок в репозитории repository пользователя username по пути repository_path. По сути это аналогично использованию \"ls repository_path\" локально, мы просто выводим список файлов по указанному пути.\n",
    "\n",
    "-download_file(username, repository, remote_file_path, local_file_path) - скачивание файла, который имеет путь remote_file_path в репозитории и сохранение локально по пути local_file_path. При попытке скачать папку можно бросить исключение или же скачать всю папку.\n",
    "\n",
    "\n",
    "2. Вариант посложнее (25 баллов + 15 доп) \n",
    "\n",
    "Предлагаю использовать вот этот сервис http://hollywood.mit.edu/GENSCAN.html\n",
    "Он способен находить и вырезать интроны в переданной нуклеотидной последовательности. Делает он это не очень хорошо, но это лучше, чем ничего. К тому же у него действительно нет публичного API.\n",
    "\n",
    "\n",
    "Реализуйте следующую функцию:\n",
    "\n",
    "-run_genscan(sequence=None, sequence_file=None, organism=\"Vertebrate\", exon_cutoff=1.00, sequence_name=\"\") - выполняет запрос аналогичный заполнению формы на сайте. Принимает на вход все параметры, которые можно указать на сайте (кроме Print options).\n",
    "\n",
    "-sequence - последовательность в виде строки или любого удобного вам типа, sequence_file - путь к файлу с последовательностью, который будет загружен и использован вместо sequence. Функция должна будет возвращать объект типа GenscanOutput. Про него дальше.\n",
    "\n",
    "Реализуйте класс GenscanOutput у него должны быть следующие атрибуты:\n",
    "\n",
    "-status - статус запроса\n",
    "\n",
    "-cds_list - список предсказанных белковых последовательностей с учётом сплайсинга (в самом конце результатов с сайта)\n",
    "\n",
    "-intron_list - список найденных интронов. Один интрон можно представить любым типом данных, но он должен хранить информацию о его порядковом номере, его начале и конце. Информациб о интронах можно получить из первой таблицы в результатах на сайте.\n",
    "\n",
    "-exon_list - всё аналогично интронам, но только с экзонами.\n",
    "По желанию ещё любые данные, которые вы найдёте в результатах"
   ]
  },
  {
   "cell_type": "code",
   "execution_count": 1,
   "metadata": {},
   "outputs": [],
   "source": [
    "import requests\n",
    "from bs4 import BeautifulSoup"
   ]
  },
  {
   "cell_type": "markdown",
   "metadata": {},
   "source": [
    "## Сделаем базовый вариант - API для GitHub"
   ]
  },
  {
   "cell_type": "markdown",
   "metadata": {},
   "source": [
    "Реализуйте следующие функции:\n",
    "\n",
    "1) get_user_info(username) - возвращает словарь с информацией о юзере. Ключи: имя (которое НЕ никнейм), организация, местоположение, число подписчиков, число репозиториев.\n",
    "\n",
    "2) get_user_repositories(username) - возвращает список публичных репозиториев пользователя в виде списка словарей. Ключи: юзер, имя репозитория, язык.\n",
    "\n",
    "3) list_repository_contents(username, repository, repository_path) - возвращает список файлов и папок в репозитории repository пользователя username по пути repository_path. По сути это аналогично использованию \"ls repository_path\" локально, мы просто выводим список файлов по указанному пути.\n",
    "\n",
    "4) download_file(username, repository, remote_file_path, local_file_path) - скачивание файла, который имеет путь remote_file_path в репозитории и сохранение локально по пути local_file_path. При попытке скачать папку можно бросить исключение или же скачать всю папку."
   ]
  },
  {
   "cell_type": "code",
   "execution_count": 35,
   "metadata": {},
   "outputs": [],
   "source": [
    "url = 'https://github.com/krglkvrmn' # можно сюда {} вот так вставить имя"
   ]
  },
  {
   "cell_type": "code",
   "execution_count": 59,
   "metadata": {},
   "outputs": [],
   "source": [
    "url = 'https://github.com/immbiochem'"
   ]
  },
  {
   "cell_type": "code",
   "execution_count": 36,
   "metadata": {},
   "outputs": [],
   "source": [
    "resp = requests.get(url)"
   ]
  },
  {
   "cell_type": "code",
   "execution_count": 37,
   "metadata": {},
   "outputs": [],
   "source": [
    "soup = BeautifulSoup(resp.content)"
   ]
  },
  {
   "cell_type": "markdown",
   "metadata": {},
   "source": [
    "### Первая функция"
   ]
  },
  {
   "cell_type": "code",
   "execution_count": 115,
   "metadata": {},
   "outputs": [],
   "source": [
    "def get_user_info(username):\n",
    "    url = 'https://github.com/' + username\n",
    "    user_dict = {'Name':'Nothing', \n",
    "                 'Organization':'Nothing',\n",
    "                 'Number of repositories':'Nothing',\n",
    "                 'Number of followers':'Nothing',\n",
    "                'Location' : 'Nothing'}\n",
    "    resp = requests.get(url)\n",
    "    soup = BeautifulSoup(resp.content)\n",
    "    action_dict = {'Name': (lambda soup: soup.find('span', itemprop = 'name').text.strip()), \n",
    "                 'Organization':(lambda soup: soup.find('span', class_ = \"p-org\").text),\n",
    "                 'Number of repositories':(lambda soup: soup.find_all('span', class_ = 'Counter')[0].text),\n",
    "                 'Number of followers':(lambda soup: soup.find('span', class_ = \"text-bold color-fg-default\").text),\n",
    "                'Location' : (lambda soup: soup.find('span', class_ = \"p-label\").text)}\n",
    "    for name in user_dict:\n",
    "        try:\n",
    "            user_dict[name] = action_dict[name](soup)\n",
    "        except:\n",
    "            pass\n",
    "    return user_dict\n",
    "        "
   ]
  },
  {
   "cell_type": "markdown",
   "metadata": {},
   "source": [
    "#### Демонстрация"
   ]
  },
  {
   "cell_type": "code",
   "execution_count": 116,
   "metadata": {},
   "outputs": [
    {
     "name": "stdout",
     "output_type": "stream",
     "text": [
      "{'Name': 'Roman Kruglikov', 'Organization': 'Nothing', 'Number of repositories': '11', 'Number of followers': '1', 'Location': 'Moscow'}\n"
     ]
    }
   ],
   "source": [
    "slovar = get_user_info('krglkvrmn')\n",
    "print(slovar)"
   ]
  },
  {
   "cell_type": "code",
   "execution_count": 117,
   "metadata": {},
   "outputs": [
    {
     "name": "stdout",
     "output_type": "stream",
     "text": [
      "{'Name': 'Semyon Kupriyanov', 'Organization': 'SUSMU', 'Number of repositories': '4', 'Number of followers': 'Nothing', 'Location': 'Nothing'}\n"
     ]
    }
   ],
   "source": [
    "slovar = get_user_info('immbiochem')\n",
    "print(slovar)"
   ]
  },
  {
   "cell_type": "markdown",
   "metadata": {},
   "source": [
    "### Вторая функция"
   ]
  },
  {
   "cell_type": "code",
   "execution_count": 17,
   "metadata": {},
   "outputs": [],
   "source": [
    "import re"
   ]
  },
  {
   "cell_type": "code",
   "execution_count": 111,
   "metadata": {},
   "outputs": [],
   "source": [
    "def get_user_repositories(username):\n",
    "    url = 'https://github.com/'+username+'?tab=repositories'\n",
    "    resp = requests.get(url)\n",
    "    soup = BeautifulSoup(resp.content)\n",
    "    rep = soup.find_all('li', class_=re.compile('col-+'))\n",
    "    reps_list = []\n",
    "    for i in range(len(rep)):\n",
    "        if rep[i].find('span', class_=re.compile('Label')).text == 'Public':\n",
    "            block = {'User': soup.find('span', itemprop='name').text.strip()}\n",
    "            try:\n",
    "                block['Name'] = rep[i].find('a', itemprop=\"name codeRepository\").text.strip()\n",
    "            except:\n",
    "                block['Name'] = 'None'\n",
    "            try:\n",
    "                block['Language'] = rep[i].find(['ul', 'span'], itemprop=re.compile('pro+')).text\n",
    "            except:\n",
    "                block['Language'] = 'None'\n",
    "            reps_list.append(block)\n",
    "    return reps_list"
   ]
  },
  {
   "cell_type": "markdown",
   "metadata": {},
   "source": [
    "#### Демонстрация"
   ]
  },
  {
   "cell_type": "code",
   "execution_count": 113,
   "metadata": {},
   "outputs": [
    {
     "name": "stdout",
     "output_type": "stream",
     "text": [
      "[{'User': 'Roman Kruglikov', 'Name': 'FlowSOM', 'Language': 'Python'}, {'User': 'Roman Kruglikov', 'Name': 'Clipboard_translater', 'Language': 'Python'}, {'User': 'Roman Kruglikov', 'Name': 'Virtual_environment_research', 'Language': 'Python'}, {'User': 'Roman Kruglikov', 'Name': 'BI_2021_Python', 'Language': 'Python'}, {'User': 'Roman Kruglikov', 'Name': 'IB_Music_project', 'Language': 'Jupyter Notebook'}, {'User': 'Roman Kruglikov', 'Name': 'Asteroids_pygame_tutorial', 'Language': 'Python'}, {'User': 'Roman Kruglikov', 'Name': 'BI_2021_spring_project', 'Language': 'Jupyter Notebook'}, {'User': 'Roman Kruglikov', 'Name': 'SeqTools', 'Language': 'Python'}, {'User': 'Roman Kruglikov', 'Name': 'BI_Statistics_projects', 'Language': 'None'}, {'User': 'Roman Kruglikov', 'Name': 'BI_Python', 'Language': 'Jupyter Notebook'}, {'User': 'Roman Kruglikov', 'Name': 'MAG_gi_plasmid_analysis', 'Language': 'Jupyter Notebook'}]\n"
     ]
    }
   ],
   "source": [
    "print(get_user_repositories('krglkvrmn'))"
   ]
  },
  {
   "cell_type": "code",
   "execution_count": 114,
   "metadata": {},
   "outputs": [
    {
     "name": "stdout",
     "output_type": "stream",
     "text": [
      "[{'User': 'Semyon Kupriyanov', 'Name': 'BI_ML_2021', 'Language': 'None'}, {'User': 'Semyon Kupriyanov', 'Name': 'BI_2021_Python', 'Language': 'Jupyter Notebook'}, {'User': 'Semyon Kupriyanov', 'Name': 'BI_Stat_2021', 'Language': 'HTML'}, {'User': 'Semyon Kupriyanov', 'Name': 'bf_course', 'Language': 'Jupyter Notebook'}]\n"
     ]
    }
   ],
   "source": [
    "print(get_user_repositories('immbiochem'))"
   ]
  },
  {
   "cell_type": "markdown",
   "metadata": {},
   "source": [
    "### Третья функция"
   ]
  },
  {
   "cell_type": "code",
   "execution_count": null,
   "metadata": {},
   "outputs": [],
   "source": []
  },
  {
   "cell_type": "code",
   "execution_count": null,
   "metadata": {},
   "outputs": [],
   "source": []
  },
  {
   "cell_type": "code",
   "execution_count": null,
   "metadata": {},
   "outputs": [],
   "source": []
  },
  {
   "cell_type": "code",
   "execution_count": null,
   "metadata": {},
   "outputs": [],
   "source": []
  },
  {
   "cell_type": "code",
   "execution_count": null,
   "metadata": {},
   "outputs": [],
   "source": []
  },
  {
   "cell_type": "code",
   "execution_count": null,
   "metadata": {},
   "outputs": [],
   "source": []
  },
  {
   "cell_type": "code",
   "execution_count": null,
   "metadata": {},
   "outputs": [],
   "source": []
  },
  {
   "cell_type": "code",
   "execution_count": null,
   "metadata": {},
   "outputs": [],
   "source": []
  }
 ],
 "metadata": {
  "kernelspec": {
   "display_name": "Python 3",
   "language": "python",
   "name": "python3"
  },
  "language_info": {
   "codemirror_mode": {
    "name": "ipython",
    "version": 3
   },
   "file_extension": ".py",
   "mimetype": "text/x-python",
   "name": "python",
   "nbconvert_exporter": "python",
   "pygments_lexer": "ipython3",
   "version": "3.8.5"
  }
 },
 "nbformat": 4,
 "nbformat_minor": 4
}
