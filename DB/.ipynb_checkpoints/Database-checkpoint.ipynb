{
 "cells": [
  {
   "cell_type": "markdown",
   "metadata": {},
   "source": [
    "Пришло время сделать свою БД! Подумайте как организовать базу, создайте её и заполните данными через питон на основе своих данных или воспользуйтесь учебными (https://drive.google.com/open?id=1NWIT8Yn-GdgpBUfFO87dnIDQgmE5nj-j)(30 баллов)\n",
    "\n",
    "\n",
    "Дополнительное задание!\n",
    "Напарсите данные для своей БД из интернета) Через запросы, конечно)\n",
    "(10 доп баллов)"
   ]
  },
  {
   "cell_type": "code",
   "execution_count": 1,
   "metadata": {},
   "outputs": [],
   "source": [
    "import sqlite3 as sq"
   ]
  },
  {
   "cell_type": "markdown",
   "metadata": {},
   "source": [
    "a1 Temperature of patient { 35C-42C }\n",
    "\n",
    "a2 Occurrence of nausea { yes, no }\n",
    "\n",
    "a3 Lumbar pain { yes, no }\n",
    "\n",
    "a4 Urine pushing (continuous need for urination) { yes, no }\n",
    "\n",
    "a5 Micturition pains { yes, no }\n",
    "\n",
    "a6 Burning of urethra, itch, swelling of urethra outlet { yes, no }\n",
    "\n",
    "d1 decision: Inflammation of urinary bladder { yes, no }\n",
    "\n",
    "d2 decision: Nephritis of renal pelvis origin { yes, no } "
   ]
  },
  {
   "cell_type": "code",
   "execution_count": 96,
   "metadata": {},
   "outputs": [],
   "source": [
    "data = {'temperature':[],\n",
    "'nausea': [],\n",
    "'lumbar_pain' : [],\n",
    "'urine_pushing' : [],\n",
    "'micturition_pains' : [],\n",
    "'burning_of_urethra' : [],\n",
    "'cystit' : [],\n",
    "'nephritis' : []  \n",
    "}\n",
    "\n",
    "with open('data.txt', 'r') as file:\n",
    "    for line in file:\n",
    "        for value, key in enumerate(data.keys()):\n",
    "            data[key].append(line.split()[value])"
   ]
  },
  {
   "cell_type": "code",
   "execution_count": 97,
   "metadata": {},
   "outputs": [],
   "source": [
    "# data['temperature']\n",
    "data['temperature'] = list(map(lambda x: float('.'.join(x.split(','))), data['temperature']))"
   ]
  },
  {
   "cell_type": "code",
   "execution_count": 108,
   "metadata": {},
   "outputs": [],
   "source": [
    "list_data = []\n",
    "with open('data.txt', 'r') as file:\n",
    "    for line in file:\n",
    "        list_data.append([float('.'.join(line.split()[0].split(',')))]+line.split()[1:])"
   ]
  },
  {
   "cell_type": "code",
   "execution_count": 109,
   "metadata": {},
   "outputs": [
    {
     "data": {
      "text/plain": [
       "[[35.5, 'no', 'yes', 'no', 'no', 'no', 'no', 'no'],\n",
       " [35.9, 'no', 'no', 'yes', 'yes', 'yes', 'yes', 'no'],\n",
       " [35.9, 'no', 'yes', 'no', 'no', 'no', 'no', 'no'],\n",
       " [36.0, 'no', 'no', 'yes', 'yes', 'yes', 'yes', 'no'],\n",
       " [36.0, 'no', 'yes', 'no', 'no', 'no', 'no', 'no']]"
      ]
     },
     "execution_count": 109,
     "metadata": {},
     "output_type": "execute_result"
    }
   ],
   "source": [
    "list_data[:5]"
   ]
  },
  {
   "cell_type": "code",
   "execution_count": 110,
   "metadata": {},
   "outputs": [],
   "source": [
    "db = sq.connect('acute_inflam.db')"
   ]
  },
  {
   "cell_type": "code",
   "execution_count": 111,
   "metadata": {},
   "outputs": [],
   "source": [
    "query = '''CREATE TABLE IF NOT EXISTS inflam(\n",
    "                                inflam_id INTEGER PRIMARY KEY,\n",
    "                                temperature REAL,\n",
    "                                nausea TEXT,\n",
    "                                lumbar_pain TEXT,\n",
    "                                urine_pushing TEXT,\n",
    "                                micturition_pains TEXT,\n",
    "                                burning_of_urethra TEXT,\n",
    "                                cystit TEXT,\n",
    "                                nephritis TEXT\n",
    ")\n",
    "'''"
   ]
  },
  {
   "cell_type": "code",
   "execution_count": 112,
   "metadata": {},
   "outputs": [
    {
     "data": {
      "text/plain": [
       "<sqlite3.Cursor at 0x273c5724c00>"
      ]
     },
     "execution_count": 112,
     "metadata": {},
     "output_type": "execute_result"
    }
   ],
   "source": [
    "db.execute(query)"
   ]
  },
  {
   "cell_type": "code",
   "execution_count": 101,
   "metadata": {},
   "outputs": [],
   "source": [
    "# iters = len(data['nausea'])"
   ]
  },
  {
   "cell_type": "code",
   "execution_count": 102,
   "metadata": {},
   "outputs": [],
   "source": [
    "# ins_query = '''\n",
    "#                 INSERT INTO\n",
    "#                 inflam(temperature, nausea, lumbar_pain,\n",
    "#                 urine_pushing, micturition_pains, burning_of_urethra,\n",
    "#                 cystit, nephritis)\n",
    "#                 VALUES(?, ?, ?, ?, ?, ?, ?, ?)\n",
    "# '''\n",
    "# for i in range(iters):\n",
    "#     db.executemany(ins_query, tuple(map(lambda x: data[x][i], data.keys())))\n",
    "# db.commit()"
   ]
  },
  {
   "cell_type": "code",
   "execution_count": 113,
   "metadata": {},
   "outputs": [],
   "source": [
    "ins_query = '''\n",
    "                INSERT INTO\n",
    "                inflam(temperature, nausea, lumbar_pain,\n",
    "                urine_pushing, micturition_pains, burning_of_urethra,\n",
    "                cystit, nephritis)\n",
    "                VALUES(?, ?, ?, ?, ?, ?, ?, ?)\n",
    "'''\n",
    "db.executemany(ins_query, list_data)\n",
    "db.commit()"
   ]
  },
  {
   "cell_type": "code",
   "execution_count": null,
   "metadata": {},
   "outputs": [],
   "source": []
  },
  {
   "cell_type": "code",
   "execution_count": 103,
   "metadata": {},
   "outputs": [],
   "source": [
    "db.close()"
   ]
  },
  {
   "cell_type": "code",
   "execution_count": null,
   "metadata": {},
   "outputs": [],
   "source": []
  },
  {
   "cell_type": "code",
   "execution_count": null,
   "metadata": {},
   "outputs": [],
   "source": []
  },
  {
   "cell_type": "code",
   "execution_count": null,
   "metadata": {},
   "outputs": [],
   "source": []
  }
 ],
 "metadata": {
  "kernelspec": {
   "display_name": "Python 3",
   "language": "python",
   "name": "python3"
  },
  "language_info": {
   "codemirror_mode": {
    "name": "ipython",
    "version": 3
   },
   "file_extension": ".py",
   "mimetype": "text/x-python",
   "name": "python",
   "nbconvert_exporter": "python",
   "pygments_lexer": "ipython3",
   "version": "3.8.5"
  }
 },
 "nbformat": 4,
 "nbformat_minor": 4
}
