{
 "cells": [
  {
   "cell_type": "markdown",
   "metadata": {},
   "source": [
    "## Сделаем базовый вариант - API для GitHub"
   ]
  },
  {
   "cell_type": "markdown",
   "metadata": {},
   "source": [
    "Реализуйте следующие функции:\n",
    "\n",
    "1) get_user_info(username) - возвращает словарь с информацией о юзере. Ключи: имя (которое НЕ никнейм), организация, местоположение, число подписчиков, число репозиториев.\n",
    "\n",
    "2) get_user_repositories(username) - возвращает список публичных репозиториев пользователя в виде списка словарей. Ключи: юзер, имя репозитория, язык.\n",
    "\n",
    "3) list_repository_contents(username, repository, repository_path) - возвращает список файлов и папок в репозитории repository пользователя username по пути repository_path. По сути это аналогично использованию \"ls repository_path\" локально, мы просто выводим список файлов по указанному пути.\n",
    "\n",
    "4) download_file(username, repository, remote_file_path, local_file_path) - скачивание файла, который имеет путь remote_file_path в репозитории и сохранение локально по пути local_file_path. При попытке скачать папку можно бросить исключение или же скачать всю папку."
   ]
  },
  {
   "cell_type": "code",
   "execution_count": 1,
   "metadata": {},
   "outputs": [],
   "source": [
    "import requests\n",
    "from bs4 import BeautifulSoup"
   ]
  },
  {
   "cell_type": "code",
   "execution_count": 35,
   "metadata": {},
   "outputs": [],
   "source": [
    "url = 'https://github.com/krglkvrmn' # можно сюда {} вот так вставить имя"
   ]
  },
  {
   "cell_type": "code",
   "execution_count": 59,
   "metadata": {},
   "outputs": [],
   "source": [
    "url = 'https://github.com/immbiochem'"
   ]
  },
  {
   "cell_type": "code",
   "execution_count": 36,
   "metadata": {},
   "outputs": [],
   "source": [
    "resp = requests.get(url)"
   ]
  },
  {
   "cell_type": "code",
   "execution_count": 37,
   "metadata": {},
   "outputs": [],
   "source": [
    "soup = BeautifulSoup(resp.content)"
   ]
  },
  {
   "cell_type": "markdown",
   "metadata": {},
   "source": [
    "### Первая функция\n",
    "Возвращает словарь с информацией о юзере. Ключи: имя (которое НЕ никнейм), организация, местоположение, число подписчиков, число репозиториев"
   ]
  },
  {
   "cell_type": "code",
   "execution_count": 115,
   "metadata": {},
   "outputs": [],
   "source": [
    "def get_user_info(username):\n",
    "    url = 'https://github.com/' + username\n",
    "    user_dict = {'Name':'Nothing', \n",
    "                 'Organization':'Nothing',\n",
    "                 'Number of repositories':'Nothing',\n",
    "                 'Number of followers':'Nothing',\n",
    "                'Location' : 'Nothing'}\n",
    "    resp = requests.get(url)\n",
    "    soup = BeautifulSoup(resp.content)\n",
    "    action_dict = {'Name': (lambda soup: soup.find('span', itemprop = 'name').text.strip()), \n",
    "                 'Organization':(lambda soup: soup.find('span', class_ = \"p-org\").text),\n",
    "                 'Number of repositories':(lambda soup: soup.find_all('span', class_ = 'Counter')[0].text),\n",
    "                 'Number of followers':(lambda soup: soup.find('span', class_ = \"text-bold color-fg-default\").text),\n",
    "                'Location' : (lambda soup: soup.find('span', class_ = \"p-label\").text)}\n",
    "    for name in user_dict:\n",
    "        try:\n",
    "            user_dict[name] = action_dict[name](soup)\n",
    "        except:\n",
    "            pass\n",
    "    return user_dict\n",
    "        "
   ]
  },
  {
   "cell_type": "markdown",
   "metadata": {},
   "source": [
    "#### Демонстрация"
   ]
  },
  {
   "cell_type": "code",
   "execution_count": 116,
   "metadata": {},
   "outputs": [
    {
     "name": "stdout",
     "output_type": "stream",
     "text": [
      "{'Name': 'Roman Kruglikov', 'Organization': 'Nothing', 'Number of repositories': '11', 'Number of followers': '1', 'Location': 'Moscow'}\n"
     ]
    }
   ],
   "source": [
    "slovar = get_user_info('krglkvrmn')\n",
    "print(slovar)"
   ]
  },
  {
   "cell_type": "code",
   "execution_count": 117,
   "metadata": {},
   "outputs": [
    {
     "name": "stdout",
     "output_type": "stream",
     "text": [
      "{'Name': 'Semyon Kupriyanov', 'Organization': 'SUSMU', 'Number of repositories': '4', 'Number of followers': 'Nothing', 'Location': 'Nothing'}\n"
     ]
    }
   ],
   "source": [
    "slovar = get_user_info('immbiochem')\n",
    "print(slovar)"
   ]
  },
  {
   "cell_type": "markdown",
   "metadata": {},
   "source": [
    "### Вторая функция\n",
    "Возвращает список публичных репозиториев пользователя в виде списка словарей. Ключи: юзер, имя репозитория, язык"
   ]
  },
  {
   "cell_type": "code",
   "execution_count": 17,
   "metadata": {},
   "outputs": [],
   "source": [
    "import re"
   ]
  },
  {
   "cell_type": "code",
   "execution_count": 111,
   "metadata": {},
   "outputs": [],
   "source": [
    "def get_user_repositories(username):\n",
    "    url = 'https://github.com/'+username+'?tab=repositories'\n",
    "    resp = requests.get(url)\n",
    "    soup = BeautifulSoup(resp.content)\n",
    "    rep = soup.find_all('li', class_=re.compile('col-+'))\n",
    "    reps_list = []\n",
    "    for i in range(len(rep)):\n",
    "        if rep[i].find('span', class_=re.compile('Label')).text == 'Public':\n",
    "            block = {'User': soup.find('span', itemprop='name').text.strip()}\n",
    "            try:\n",
    "                block['Name'] = rep[i].find('a', itemprop=\"name codeRepository\").text.strip()\n",
    "            except:\n",
    "                block['Name'] = 'None'\n",
    "            try:\n",
    "                block['Language'] = rep[i].find(['ul', 'span'], itemprop=re.compile('pro+')).text\n",
    "            except:\n",
    "                block['Language'] = 'None'\n",
    "            reps_list.append(block)\n",
    "    return reps_list"
   ]
  },
  {
   "cell_type": "markdown",
   "metadata": {},
   "source": [
    "#### Демонстрация"
   ]
  },
  {
   "cell_type": "code",
   "execution_count": 113,
   "metadata": {},
   "outputs": [
    {
     "name": "stdout",
     "output_type": "stream",
     "text": [
      "[{'User': 'Roman Kruglikov', 'Name': 'FlowSOM', 'Language': 'Python'}, {'User': 'Roman Kruglikov', 'Name': 'Clipboard_translater', 'Language': 'Python'}, {'User': 'Roman Kruglikov', 'Name': 'Virtual_environment_research', 'Language': 'Python'}, {'User': 'Roman Kruglikov', 'Name': 'BI_2021_Python', 'Language': 'Python'}, {'User': 'Roman Kruglikov', 'Name': 'IB_Music_project', 'Language': 'Jupyter Notebook'}, {'User': 'Roman Kruglikov', 'Name': 'Asteroids_pygame_tutorial', 'Language': 'Python'}, {'User': 'Roman Kruglikov', 'Name': 'BI_2021_spring_project', 'Language': 'Jupyter Notebook'}, {'User': 'Roman Kruglikov', 'Name': 'SeqTools', 'Language': 'Python'}, {'User': 'Roman Kruglikov', 'Name': 'BI_Statistics_projects', 'Language': 'None'}, {'User': 'Roman Kruglikov', 'Name': 'BI_Python', 'Language': 'Jupyter Notebook'}, {'User': 'Roman Kruglikov', 'Name': 'MAG_gi_plasmid_analysis', 'Language': 'Jupyter Notebook'}]\n"
     ]
    }
   ],
   "source": [
    "print(get_user_repositories('krglkvrmn'))"
   ]
  },
  {
   "cell_type": "code",
   "execution_count": 114,
   "metadata": {},
   "outputs": [
    {
     "name": "stdout",
     "output_type": "stream",
     "text": [
      "[{'User': 'Semyon Kupriyanov', 'Name': 'BI_ML_2021', 'Language': 'None'}, {'User': 'Semyon Kupriyanov', 'Name': 'BI_2021_Python', 'Language': 'Jupyter Notebook'}, {'User': 'Semyon Kupriyanov', 'Name': 'BI_Stat_2021', 'Language': 'HTML'}, {'User': 'Semyon Kupriyanov', 'Name': 'bf_course', 'Language': 'Jupyter Notebook'}]\n"
     ]
    }
   ],
   "source": [
    "print(get_user_repositories('immbiochem'))"
   ]
  },
  {
   "cell_type": "markdown",
   "metadata": {},
   "source": [
    "### Третья функция\n",
    "Возвращает список файлов и папок в репозитории repository пользователя username по пути repository_path. По сути это аналогично использованию \"ls repository_path\" локально, мы просто выводим список файлов по указанному пути"
   ]
  },
  {
   "cell_type": "code",
   "execution_count": 144,
   "metadata": {},
   "outputs": [],
   "source": [
    "def list_repository_contents(username, repository_path):\n",
    "    url = 'https://github.com/'+username+repository_path\n",
    "    resp = requests.get(url)\n",
    "    soup = BeautifulSoup(resp.content)\n",
    "    black_box = soup.find('div', role='grid').find_all('div', role='row')\n",
    "    repository_content = list()\n",
    "    for tag in black_box:\n",
    "        try:\n",
    "            repository_content.append(tag.find('a', class_=re.compile('js+')).text)\n",
    "        except:\n",
    "            pass\n",
    "    return repository_content"
   ]
  },
  {
   "cell_type": "markdown",
   "metadata": {},
   "source": [
    "##### Я не совсем понял, зачем нужно так много аргументов, если в путь до репозитория входит его имя, поэтому указал два аргумента, если нужно, перепишу"
   ]
  },
  {
   "cell_type": "markdown",
   "metadata": {},
   "source": [
    "#### Демонстрация"
   ]
  },
  {
   "cell_type": "code",
   "execution_count": 145,
   "metadata": {},
   "outputs": [
    {
     "name": "stdout",
     "output_type": "stream",
     "text": [
      "['images', '.gitignore', 'README.md', 'dict_manager.py', 'main.py', 'requirements.txt', 'translater.py']\n"
     ]
    }
   ],
   "source": [
    "print(list_repository_contents('krglkvrmn', '/Clipboard_translater'))"
   ]
  },
  {
   "cell_type": "code",
   "execution_count": 146,
   "metadata": {},
   "outputs": [
    {
     "name": "stdout",
     "output_type": "stream",
     "text": [
      "['.github/workflows', 'UNIX_like_programms', 'New fastq-filtrator.py', 'RANDOM.ipynb', 'README.md', 'SEQ-PROG.py', 'functional.py', 'numpy_challenge.py', 'units_converter.py']\n"
     ]
    }
   ],
   "source": [
    "print(list_repository_contents('immbiochem', '/BI_2021_Python'))"
   ]
  },
  {
   "cell_type": "markdown",
   "metadata": {},
   "source": [
    "### Четвертая функция\n",
    "Скачивание файла, который имеет путь remote_file_path в репозитории и сохранение локально по пути local_file_path. При попытке скачать папку можно бросить исключение или же скачать всю папку"
   ]
  },
  {
   "cell_type": "code",
   "execution_count": 250,
   "metadata": {},
   "outputs": [],
   "source": [
    "def download_file(username, repository, remote_file_path, local_file_path):\n",
    "    url = 'https://raw.githubusercontent.com/'+username+'/'+repository+remote_file_path\n",
    "    resp = requests.get(url)\n",
    "    filename = url.split('/')[-1]\n",
    "    if resp.ok:\n",
    "        with open(local_file_path+filename, 'wb') as file:\n",
    "            file.write(resp.content)\n",
    "    else:\n",
    "        raise ValueError('Check your input information')"
   ]
  },
  {
   "cell_type": "markdown",
   "metadata": {},
   "source": [
    "#### Демонстрация"
   ]
  },
  {
   "cell_type": "code",
   "execution_count": 251,
   "metadata": {},
   "outputs": [],
   "source": [
    "download_file('immbiochem', 'BI_Stat_2021', '/main/olimpic_games_branch/data_folder/athlete_events00.csv', r'C:\\Users\\pfft\\OneDrive\\Рабочий стол\\БИ\\BI_2021_Python\\\\')"
   ]
  },
  {
   "cell_type": "code",
   "execution_count": 252,
   "metadata": {},
   "outputs": [],
   "source": [
    "download_file('immbiochem', 'bf_course', '/master/14.pandas/train.csv', r'C:\\Users\\pfft\\OneDrive\\Рабочий стол\\БИ\\BI_2021_Python\\\\')"
   ]
  }
 ],
 "metadata": {
  "kernelspec": {
   "display_name": "Python 3",
   "language": "python",
   "name": "python3"
  },
  "language_info": {
   "codemirror_mode": {
    "name": "ipython",
    "version": 3
   },
   "file_extension": ".py",
   "mimetype": "text/x-python",
   "name": "python",
   "nbconvert_exporter": "python",
   "pygments_lexer": "ipython3",
   "version": "3.8.5"
  }
 },
 "nbformat": 4,
 "nbformat_minor": 4
}
