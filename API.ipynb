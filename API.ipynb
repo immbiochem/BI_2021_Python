{
 "cells": [
  {
   "cell_type": "markdown",
   "metadata": {},
   "source": [
    "1. Базовый вариант (25 баллов) \n",
    "\n",
    "Здесь я предлагаю вам сделать API для GitHub. У гитхаба есть публичный API, но для учебных целей мы сделаем велосипед.\n",
    "\n",
    "Реализуйте следующие функции:\n",
    "-get_user_info(username) - возвращает словарь с информацией о юзере. Ключи: имя (которое НЕ никнейм), организация, местоположение, число подписчиков, число репозиториев.\n",
    "\n",
    "-get_user_repositories(username) - возвращает список публичных репозиториев пользователя в виде списка словарей. Ключи: юзер, имя репозитория, язык.\n",
    "\n",
    "-list_repository_contents(username, repository, repository_path) - возвращает список файлов и папок в репозитории repository пользователя username по пути repository_path. По сути это аналогично использованию \"ls repository_path\" локально, мы просто выводим список файлов по указанному пути.\n",
    "\n",
    "-download_file(username, repository, remote_file_path, local_file_path) - скачивание файла, который имеет путь remote_file_path в репозитории и сохранение локально по пути local_file_path. При попытке скачать папку можно бросить исключение или же скачать всю папку.\n",
    "\n",
    "\n",
    "2. Вариант посложнее (25 баллов + 15 доп) \n",
    "\n",
    "Предлагаю использовать вот этот сервис http://hollywood.mit.edu/GENSCAN.html\n",
    "Он способен находить и вырезать интроны в переданной нуклеотидной последовательности. Делает он это не очень хорошо, но это лучше, чем ничего. К тому же у него действительно нет публичного API.\n",
    "\n",
    "\n",
    "Реализуйте следующую функцию:\n",
    "\n",
    "-run_genscan(sequence=None, sequence_file=None, organism=\"Vertebrate\", exon_cutoff=1.00, sequence_name=\"\") - выполняет запрос аналогичный заполнению формы на сайте. Принимает на вход все параметры, которые можно указать на сайте (кроме Print options).\n",
    "\n",
    "-sequence - последовательность в виде строки или любого удобного вам типа, sequence_file - путь к файлу с последовательностью, который будет загружен и использован вместо sequence. Функция должна будет возвращать объект типа GenscanOutput. Про него дальше.\n",
    "\n",
    "Реализуйте класс GenscanOutput у него должны быть следующие атрибуты:\n",
    "\n",
    "-status - статус запроса\n",
    "\n",
    "-cds_list - список предсказанных белковых последовательностей с учётом сплайсинга (в самом конце результатов с сайта)\n",
    "\n",
    "-intron_list - список найденных интронов. Один интрон можно представить любым типом данных, но он должен хранить информацию о его порядковом номере, его начале и конце. Информациб о интронах можно получить из первой таблицы в результатах на сайте.\n",
    "\n",
    "-exon_list - всё аналогично интронам, но только с экзонами.\n",
    "По желанию ещё любые данные, которые вы найдёте в результатах"
   ]
  },
  {
   "cell_type": "code",
   "execution_count": 5,
   "metadata": {},
   "outputs": [],
   "source": [
    "import requests\n",
    "from bs4 import BeautifulSoup"
   ]
  },
  {
   "cell_type": "code",
   "execution_count": 6,
   "metadata": {},
   "outputs": [],
   "source": [
    "url = 'http://hollywood.mit.edu/GENSCAN.html'"
   ]
  },
  {
   "cell_type": "code",
   "execution_count": 7,
   "metadata": {},
   "outputs": [],
   "source": [
    "resp = requests.get(url)"
   ]
  },
  {
   "cell_type": "code",
   "execution_count": 13,
   "metadata": {},
   "outputs": [],
   "source": [
    "soup = BeautifulSoup(resp.content)"
   ]
  },
  {
   "cell_type": "code",
   "execution_count": null,
   "metadata": {},
   "outputs": [],
   "source": []
  },
  {
   "cell_type": "code",
   "execution_count": null,
   "metadata": {},
   "outputs": [],
   "source": []
  },
  {
   "cell_type": "code",
   "execution_count": null,
   "metadata": {},
   "outputs": [],
   "source": []
  }
 ],
 "metadata": {
  "kernelspec": {
   "display_name": "Python 3",
   "language": "python",
   "name": "python3"
  },
  "language_info": {
   "codemirror_mode": {
    "name": "ipython",
    "version": 3
   },
   "file_extension": ".py",
   "mimetype": "text/x-python",
   "name": "python",
   "nbconvert_exporter": "python",
   "pygments_lexer": "ipython3",
   "version": "3.8.5"
  }
 },
 "nbformat": 4,
 "nbformat_minor": 4
}
