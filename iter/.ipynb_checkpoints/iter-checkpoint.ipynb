{
 "cells": [
  {
   "cell_type": "markdown",
   "metadata": {},
   "source": [
    "Основная часть (20 баллов)\n",
    "\n",
    "\n",
    "1. Сделайте генератор, который принимает на вход путь к фаста файлу и выдаёт по очереди пары id последовательности (то, что после \">\") и последовательности. (5 баллов)\n",
    "Пример использования на рисунке Example1. Обратите внимание, что функция должна возвращать НЕ список, а генератор! Биопитон и другие библиотеки не используем.\n",
    "\n",
    "\n",
    "2. Напишите класс, производящий чтение последовательностей с небольшими изменениями. (15 баллов)\n",
    "Класс должен иметь конструктор хотя бы с одним аргументом - путь к фаста файлу\n",
    "Объект данного класса должен поддерживать итерацию по нему. Не по атрибутам, а именно по самому объекту.\n",
    "В процессе итерации класс бесконечно перебирает последовательности в файле. Если файл закончился, то итерация продолжается с его начала.\n",
    "При возвращении каждой очередной последовательности класс немного изменяет её с заданной вероятностью (способ задачи вероятности придумайте сами). Можно менять часть аминокислот, делать делеции, вставки и т.д.. Функционал для изменения последовательностей выделите в отдельный(е) метод(ы).\n",
    "Наследоваться запрещается\n",
    "\n",
    "\n",
    "Дополнительная часть (10 баллов)\n",
    "\n",
    "\n",
    "Чтобы выполнить эти задания, понадобится найти дополнительную информацию об итераторах.\n",
    "\n",
    "\n",
    "1. Напишите генератор iter_append(iterable, item), который \"добавляет\" элемент item в \"конец\" iterable. (5 доп баллов)\n",
    "То есть при итерации по iter_append(iterable, item) мы сначала будем получать данные из iterable, а в самом конце одно значение item. Пример использования на рисунке Example3\n",
    "Напишите этот генератор без явных циклов (без конструкций while, for и list comprehensions)\n",
    "Не используйте никакие другие функции в теле iter_append\n",
    "2. Сделайте функцию, которая \"распаковывает\" вложенные списки (5 доп баллов)\n",
    "Уровень вложенности списков может быть любым. Пример использования на рисунке Example2.\n",
    "Подсказка: используйте генераторы и синтаксис из предыдущего задания\n",
    "\n",
    "\n",
    "Общие требования:\n",
    "Наличие README с описанием и инструкцией по использованию поощрается\n",
    "Сторонние библиотеки не используем\n",
    "Форма сдачи - ссылка на пулл реквест в master/main ветку вашего репозитория BI_2021_Python\n",
    "Решение оформить в виде Python скрипта"
   ]
  },
  {
   "cell_type": "markdown",
   "metadata": {},
   "source": [
    "### Задание 1"
   ]
  },
  {
   "cell_type": "code",
   "execution_count": 9,
   "metadata": {},
   "outputs": [],
   "source": [
    "path_to = r'sequences.fasta'"
   ]
  },
  {
   "cell_type": "code",
   "execution_count": 8,
   "metadata": {},
   "outputs": [],
   "source": [
    "def gen_fasta(path:str):\n",
    "    body = []\n",
    "    stroka = str()\n",
    "    with open(path, 'r') as file:\n",
    "        body.append(file.readline().strip())\n",
    "        for line in file:\n",
    "            if line.startswith('>'):\n",
    "                body.append(stroka)\n",
    "                body.append(line.strip())\n",
    "                stroka = str()\n",
    "            else:\n",
    "                stroka += line.strip()\n",
    "    body.append(stroka)\n",
    "    for value in body:\n",
    "        yield value"
   ]
  },
  {
   "cell_type": "markdown",
   "metadata": {},
   "source": [
    "#### Демонстрация"
   ]
  },
  {
   "cell_type": "code",
   "execution_count": 11,
   "metadata": {},
   "outputs": [
    {
     "name": "stdout",
     "output_type": "stream",
     "text": [
      "<generator object gen_fasta at 0x00000211E4094D60>\n"
     ]
    }
   ],
   "source": [
    "generator = gen_fasta(path_to)\n",
    "print(generator)"
   ]
  },
  {
   "cell_type": "code",
   "execution_count": 12,
   "metadata": {},
   "outputs": [
    {
     "name": "stdout",
     "output_type": "stream",
     "text": [
      ">Seq1\n",
      "MVELKEPFATLWRGKDPFEEVKTLQGEVFRELETRRTLRFEMAGKSYFLKWHRGTTLKEIIKNLLSLRMPVLGADREWNAIHRLRDVGVDTMYGVAFGEKGMNPLTRTSFIITEDLTPTISLEDYCADWATNPPDVRVKRMLIKRVATMVRDMHAAGINHRDCYICHFLLHLPFSGKEEELKISVIDLHRAQLRTRVPRRWRDKDLIGLYFSSMNIGLTQRDIWRFMKVYFAAPLKDILKQEQGLLSQAEAKATKIRERTIRKSL\n",
      ">Seq2\n",
      "MKLMLAEPFKSLWAGRDAFAEVEALKGEVYRELEARRTLRTEVDGRGFFVKIHRGIGWGEIFKNLFTAKLPVLGAGQEWKAIQRLQEVGVPTMTAVAYGEKGSNPADQHSFIVTEELAPTVSLEDFSIDWVKQPPQPALKRALIAEVARMTGMMHRAGVNHRDCYICHFLLHTDKPVTPEDFKLSVIDLHRAQTRPAITTRWRNKDLAALYFSALDIGLTRRDKLRFLKGYFQQPLRRILAEEASLLAWLEGKANKLYARKQRYGDAL\n"
     ]
    }
   ],
   "source": [
    "for _ in range(4):\n",
    "    print(next(generator))"
   ]
  },
  {
   "cell_type": "markdown",
   "metadata": {},
   "source": [
    "#### Модификация, которая не считывает файл сразу"
   ]
  },
  {
   "cell_type": "code",
   "execution_count": null,
   "metadata": {},
   "outputs": [],
   "source": []
  },
  {
   "cell_type": "code",
   "execution_count": null,
   "metadata": {},
   "outputs": [],
   "source": []
  },
  {
   "cell_type": "markdown",
   "metadata": {},
   "source": [
    "### Задание 2"
   ]
  },
  {
   "cell_type": "code",
   "execution_count": 24,
   "metadata": {},
   "outputs": [],
   "source": [
    "import random"
   ]
  },
  {
   "cell_type": "code",
   "execution_count": 14,
   "metadata": {},
   "outputs": [],
   "source": [
    "# class Generator_Rex:\n",
    "#     def __init__(self, path_to_file):\n",
    "#         self.path_to_file = path_to_file\n",
    "        \n",
    "#     body = []\n",
    "#     stroka = str()\n",
    "    \n",
    "#     with open(self.path_to_file, 'r') as file:\n",
    "#         file.readline()\n",
    "#         for line in file:\n",
    "#             if line.startswith('>'):\n",
    "#                 body.append(stroka)\n",
    "#                 stroka = str()\n",
    "#             else:\n",
    "#                 stroka += line.strip()\n",
    "#     body.append(stroka)\n",
    "    \n",
    "#     def __iter__(self):\n",
    "#         return self\n",
    "#     def __next__(self):\n",
    "#         return body"
   ]
  },
  {
   "cell_type": "code",
   "execution_count": 21,
   "metadata": {},
   "outputs": [],
   "source": [
    "class Generator_Rex:\n",
    "    def __init__(self, path_to_file):\n",
    "        self.path_to_file = path_to_file\n",
    "        self.box = []\n",
    "        self.stroka = str()\n",
    "        with open(self.path_to_file, 'r') as file:\n",
    "            file.readline()\n",
    "            for line in file:\n",
    "                if line.startswith('>'):\n",
    "                    self.box.append(stroka)\n",
    "                    self.stroka = str()\n",
    "                else:\n",
    "                    self.stroka += line.strip()\n",
    "        self.box.append(self.stroka)\n",
    "    \n",
    "    def __iter__(self):\n",
    "        for el in self.box:\n",
    "            try:\n",
    "                yield random.shuffle(el)\n",
    "            except StopIteration:\n",
    "                "
   ]
  },
  {
   "cell_type": "code",
   "execution_count": 22,
   "metadata": {},
   "outputs": [],
   "source": [
    "a = Generator_Rex(path_to)"
   ]
  },
  {
   "cell_type": "code",
   "execution_count": 23,
   "metadata": {},
   "outputs": [
    {
     "data": {
      "text/plain": [
       "'MVELKAPLTTLWRGKDAFEEVKTLQGEVFRELETRRTLRFELDGKSYFLKWHKGTSLKEIVKNLISLRMPVLGADREWHAIHRLHELGVDTMHGVGFGEKGVNPLTRTSFIITEDLTPTISLEDYCADWAVNPPDAQVKWMIIKRVATMVRKMHAGGINHRDCYICHFLLHLPFTGREEDLKISVIDLHRAQIRQHVPLRWRDKDLIGLYFSSMNIGLTQRDIFRFMREYFSLPLREILQKESGLIHQADVKAARIKERTIRKNL'"
      ]
     },
     "execution_count": 23,
     "metadata": {},
     "output_type": "execute_result"
    }
   ],
   "source": [
    "a.box[0]"
   ]
  },
  {
   "cell_type": "code",
   "execution_count": null,
   "metadata": {},
   "outputs": [],
   "source": []
  },
  {
   "cell_type": "code",
   "execution_count": null,
   "metadata": {},
   "outputs": [],
   "source": []
  },
  {
   "cell_type": "code",
   "execution_count": null,
   "metadata": {},
   "outputs": [],
   "source": []
  },
  {
   "cell_type": "code",
   "execution_count": null,
   "metadata": {},
   "outputs": [],
   "source": []
  }
 ],
 "metadata": {
  "kernelspec": {
   "display_name": "Python 3",
   "language": "python",
   "name": "python3"
  },
  "language_info": {
   "codemirror_mode": {
    "name": "ipython",
    "version": 3
   },
   "file_extension": ".py",
   "mimetype": "text/x-python",
   "name": "python",
   "nbconvert_exporter": "python",
   "pygments_lexer": "ipython3",
   "version": "3.8.5"
  }
 },
 "nbformat": 4,
 "nbformat_minor": 4
}
