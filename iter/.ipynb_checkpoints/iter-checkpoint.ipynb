{
 "cells": [
  {
   "cell_type": "markdown",
   "metadata": {},
   "source": [
    "Основная часть (20 баллов)\n",
    "\n",
    "\n",
    "1. Сделайте генератор, который принимает на вход путь к фаста файлу и выдаёт по очереди пары id последовательности (то, что после \">\") и последовательности. (5 баллов)\n",
    "Пример использования на рисунке Example1. Обратите внимание, что функция должна возвращать НЕ список, а генератор! Биопитон и другие библиотеки не используем.\n",
    "\n",
    "\n",
    "2. Напишите класс, производящий чтение последовательностей с небольшими изменениями. (15 баллов)\n",
    "Класс должен иметь конструктор хотя бы с одним аргументом - путь к фаста файлу\n",
    "Объект данного класса должен поддерживать итерацию по нему. Не по атрибутам, а именно по самому объекту.\n",
    "В процессе итерации класс бесконечно перебирает последовательности в файле. Если файл закончился, то итерация продолжается с его начала.\n",
    "При возвращении каждой очередной последовательности класс немного изменяет её с заданной вероятностью (способ задачи вероятности придумайте сами). Можно менять часть аминокислот, делать делеции, вставки и т.д.. Функционал для изменения последовательностей выделите в отдельный(е) метод(ы).\n",
    "Наследоваться запрещается\n",
    "\n",
    "\n",
    "Дополнительная часть (10 баллов)\n",
    "\n",
    "\n",
    "Чтобы выполнить эти задания, понадобится найти дополнительную информацию об итераторах.\n",
    "\n",
    "\n",
    "1. Напишите генератор iter_append(iterable, item), который \"добавляет\" элемент item в \"конец\" iterable. (5 доп баллов)\n",
    "То есть при итерации по iter_append(iterable, item) мы сначала будем получать данные из iterable, а в самом конце одно значение item. Пример использования на рисунке Example3\n",
    "Напишите этот генератор без явных циклов (без конструкций while, for и list comprehensions)\n",
    "Не используйте никакие другие функции в теле iter_append\n",
    "2. Сделайте функцию, которая \"распаковывает\" вложенные списки (5 доп баллов)\n",
    "Уровень вложенности списков может быть любым. Пример использования на рисунке Example2.\n",
    "Подсказка: используйте генераторы и синтаксис из предыдущего задания\n",
    "\n",
    "\n",
    "Общие требования:\n",
    "Наличие README с описанием и инструкцией по использованию поощрается\n",
    "Сторонние библиотеки не используем\n",
    "Форма сдачи - ссылка на пулл реквест в master/main ветку вашего репозитория BI_2021_Python\n",
    "Решение оформить в виде Python скрипта"
   ]
  },
  {
   "cell_type": "markdown",
   "metadata": {},
   "source": [
    "### Задание 1"
   ]
  },
  {
   "cell_type": "code",
   "execution_count": 2,
   "metadata": {},
   "outputs": [],
   "source": [
    "path_to = r'sequences.fasta'"
   ]
  },
  {
   "cell_type": "code",
   "execution_count": 8,
   "metadata": {},
   "outputs": [],
   "source": [
    "def gen_fasta(path:str):\n",
    "    body = []\n",
    "    stroka = str()\n",
    "    with open(path, 'r') as file:\n",
    "        body.append(file.readline().strip())\n",
    "        for line in file:\n",
    "            if line.startswith('>'):\n",
    "                body.append(stroka)\n",
    "                body.append(line.strip())\n",
    "                stroka = str()\n",
    "            else:\n",
    "                stroka += line.strip()\n",
    "    body.append(stroka)\n",
    "    for value in body:\n",
    "        yield value"
   ]
  },
  {
   "cell_type": "markdown",
   "metadata": {},
   "source": [
    "#### Демонстрация"
   ]
  },
  {
   "cell_type": "code",
   "execution_count": 11,
   "metadata": {},
   "outputs": [
    {
     "name": "stdout",
     "output_type": "stream",
     "text": [
      "<generator object gen_fasta at 0x00000211E4094D60>\n"
     ]
    }
   ],
   "source": [
    "generator = gen_fasta(path_to)\n",
    "print(generator)"
   ]
  },
  {
   "cell_type": "code",
   "execution_count": 12,
   "metadata": {},
   "outputs": [
    {
     "name": "stdout",
     "output_type": "stream",
     "text": [
      ">Seq1\n",
      "MVELKEPFATLWRGKDPFEEVKTLQGEVFRELETRRTLRFEMAGKSYFLKWHRGTTLKEIIKNLLSLRMPVLGADREWNAIHRLRDVGVDTMYGVAFGEKGMNPLTRTSFIITEDLTPTISLEDYCADWATNPPDVRVKRMLIKRVATMVRDMHAAGINHRDCYICHFLLHLPFSGKEEELKISVIDLHRAQLRTRVPRRWRDKDLIGLYFSSMNIGLTQRDIWRFMKVYFAAPLKDILKQEQGLLSQAEAKATKIRERTIRKSL\n",
      ">Seq2\n",
      "MKLMLAEPFKSLWAGRDAFAEVEALKGEVYRELEARRTLRTEVDGRGFFVKIHRGIGWGEIFKNLFTAKLPVLGAGQEWKAIQRLQEVGVPTMTAVAYGEKGSNPADQHSFIVTEELAPTVSLEDFSIDWVKQPPQPALKRALIAEVARMTGMMHRAGVNHRDCYICHFLLHTDKPVTPEDFKLSVIDLHRAQTRPAITTRWRNKDLAALYFSALDIGLTRRDKLRFLKGYFQQPLRRILAEEASLLAWLEGKANKLYARKQRYGDAL\n"
     ]
    }
   ],
   "source": [
    "for _ in range(4):\n",
    "    print(next(generator))"
   ]
  },
  {
   "cell_type": "markdown",
   "metadata": {},
   "source": [
    "### Задание 2"
   ]
  },
  {
   "cell_type": "code",
   "execution_count": 3,
   "metadata": {},
   "outputs": [],
   "source": [
    "import numpy as np"
   ]
  },
  {
   "cell_type": "code",
   "execution_count": 170,
   "metadata": {},
   "outputs": [],
   "source": [
    "class Generator_Rex:\n",
    "    def __init__(self, path_to_file):\n",
    "        self.path_to_file = path_to_file\n",
    "        self.box = []\n",
    "        self.stroka = str()\n",
    "        with open(self.path_to_file, 'r') as file:\n",
    "            file.readline()\n",
    "            for line in file:\n",
    "                if line.startswith('>'):\n",
    "                    self.box.append(self.stroka)\n",
    "                    self.stroka = str()\n",
    "                else:\n",
    "                    self.stroka += line.strip()\n",
    "        self.box.append(self.stroka)\n",
    "        self._coursor = -1\n",
    "    \n",
    "    def change(self, line):\n",
    "        line_transform = np.array(list(line))\n",
    "        num = int(len(line)*np.random.choice([0.1, 0.2, 0.3]))\n",
    "        line_transform[tuple(np.random.randint(len(line), size = num)), ] = np.random.choice(line_transform, num)\n",
    "        return ''.join(line_transform)\n",
    "    \n",
    "    def __next__(self):    \n",
    "        self._coursor += 1\n",
    "        try:\n",
    "            return self.change(self.box[self._coursor])\n",
    "        except IndexError:\n",
    "            self._coursor = 0\n",
    "            return self.change(self.box[self._coursor])\n",
    "       \n",
    "    def __iter__(self):\n",
    "        return self"
   ]
  },
  {
   "cell_type": "markdown",
   "metadata": {},
   "source": [
    "#### Демонстрация"
   ]
  },
  {
   "cell_type": "code",
   "execution_count": 171,
   "metadata": {},
   "outputs": [],
   "source": [
    "rex = Generator_Rex(path_to)"
   ]
  },
  {
   "cell_type": "code",
   "execution_count": 172,
   "metadata": {},
   "outputs": [
    {
     "data": {
      "text/plain": [
       "'MVELKEPFATLWRGKDPAEEVKTLQGEKFRELETRRTLRFVMDGKQYFLKWHRTLTLKEIIKNLLDLRMEVLKADMEWHAIHRTRTVGVDLMYGCAFDEKEMNPLTRTSFIITEDLTPTIELYDLCADWASTPPDVRGKRMLIKRVATMVFDMHAAGLWHRICLSNHGLGHLPFSGKEEELRISHIDLHRAQKRTRVRRRDRDKDLIGLYFSSRNIGNTQRDTVRFMVVYFAAPLKDILIQEQGLLSCAEAKATKIKERTIRKSL'"
      ]
     },
     "execution_count": 172,
     "metadata": {},
     "output_type": "execute_result"
    }
   ],
   "source": [
    "next(rex)"
   ]
  },
  {
   "cell_type": "code",
   "execution_count": 173,
   "metadata": {},
   "outputs": [
    {
     "data": {
      "text/plain": [
       "166"
      ]
     },
     "execution_count": 173,
     "metadata": {},
     "output_type": "execute_result"
    }
   ],
   "source": [
    "len(rex.box)"
   ]
  },
  {
   "cell_type": "code",
   "execution_count": 174,
   "metadata": {},
   "outputs": [
    {
     "data": {
      "text/plain": [
       "'MRLVLLEPFKVLWNGRKPFRAGERLQGFEYLELEGERTRRTEVDGRGYFVKISRRIGWGEIAKVILTAKLPKYGARQEWQAITRLHEAGVARRTAVQYGERGSDPARLGSVIPTEELAPTVDLGVFPQDWRDRPAPPRQKRALVEAVRRRVGDMHRADVNATHCYICHFLLHTDKPVSADDFRLQIIDTHRAQTRDATPKLWRNKDLAALYFSALDIGLTRVDKLRFRRTYFRRPLREILRDFAGLLAWMERQREKLFEDKQRYDDLL'"
      ]
     },
     "execution_count": 174,
     "metadata": {},
     "output_type": "execute_result"
    }
   ],
   "source": [
    "for i in range(168):\n",
    "    intermediant = next(rex)\n",
    "intermediant"
   ]
  },
  {
   "cell_type": "markdown",
   "metadata": {},
   "source": [
    "#### Попробуем сделать с random"
   ]
  },
  {
   "cell_type": "code",
   "execution_count": 1,
   "metadata": {},
   "outputs": [],
   "source": [
    "import random"
   ]
  },
  {
   "cell_type": "code",
   "execution_count": null,
   "metadata": {},
   "outputs": [],
   "source": [
    "class Generator_Rex:\n",
    "    def __init__(self, path_to_file):\n",
    "        self.path_to_file = path_to_file\n",
    "        self.box = []\n",
    "        self.stroka = str()\n",
    "        with open(self.path_to_file, 'r') as file:\n",
    "            file.readline()\n",
    "            for line in file:\n",
    "                if line.startswith('>'):\n",
    "                    self.box.append(self.stroka)\n",
    "                    self.stroka = str()\n",
    "                else:\n",
    "                    self.stroka += line.strip()\n",
    "        self.box.append(self.stroka)\n",
    "        self._coursor = -1\n",
    "    \n",
    "    def change(self, line):\n",
    "        line_transform = np.array(list(line))\n",
    "        num = int(len(line)*np.random.choice([0.1, 0.2, 0.3]))\n",
    "        line_transform[tuple(np.random.randint(len(line), size = num)), ] = np.random.choice(line_transform, num)\n",
    "        return ''.join(line_transform)\n",
    "    \n",
    "    def __next__(self):    \n",
    "        self._coursor += 1\n",
    "        try:\n",
    "            return self.change(self.box[self._coursor])\n",
    "        except IndexError:\n",
    "            self._coursor = 0\n",
    "            return self.change(self.box[self._coursor])\n",
    "       \n",
    "    def __iter__(self):\n",
    "        return self"
   ]
  },
  {
   "cell_type": "code",
   "execution_count": 6,
   "metadata": {},
   "outputs": [],
   "source": [
    "def change(line):\n",
    "        line_transform = np.array(list(line))\n",
    "        num = int(len(line)*np.random.choice([0.1, 0.2, 0.3]))\n",
    "        line_transform[tuple(np.random.randint(len(line), size = num)), ] = np.random.choice(line_transform, num)\n",
    "        return ''.join(line_transform)"
   ]
  },
  {
   "cell_type": "markdown",
   "metadata": {},
   "source": [
    "#### Функция для замены"
   ]
  },
  {
   "cell_type": "code",
   "execution_count": 89,
   "metadata": {},
   "outputs": [
    {
     "data": {
      "text/plain": [
       "'BAABCCCBBNNAAA'"
      ]
     },
     "execution_count": 89,
     "metadata": {},
     "output_type": "execute_result"
    }
   ],
   "source": [
    "change('AAABCCCBBNNAAA')"
   ]
  },
  {
   "cell_type": "code",
   "execution_count": 92,
   "metadata": {},
   "outputs": [],
   "source": [
    "a = 'AAABCCCBBNNAAA'\n",
    "list(a)\n",
    "lengh = len(a)"
   ]
  },
  {
   "cell_type": "code",
   "execution_count": 285,
   "metadata": {},
   "outputs": [
    {
     "name": "stdout",
     "output_type": "stream",
     "text": [
      "AAABCCCBBNNAAA\n",
      "CAABNCCBBNBAAA\n"
     ]
    }
   ],
   "source": [
    "lengh = len(a)\n",
    "c = list(a)\n",
    "for i in [random.randint(0, lengh-1) for _ in range(int(lengh*round(random.choice([i*0.1 for i in range(5)]), 2)))]:\n",
    "    c[i] = random.choice(list(set(a)))\n",
    "print(a)\n",
    "print(''.join(c))"
   ]
  },
  {
   "cell_type": "markdown",
   "metadata": {},
   "source": [
    "#### сделаем функцию для делеции или вставки"
   ]
  },
  {
   "cell_type": "code",
   "execution_count": 265,
   "metadata": {},
   "outputs": [
    {
     "name": "stdout",
     "output_type": "stream",
     "text": [
      "AAABCCCBBNNAAA\n",
      "CCBBNNAAA\n"
     ]
    }
   ],
   "source": [
    "c = sorted([random.randint(0, lengh) for _ in range(2)]) # менее часто\n",
    "print(a)\n",
    "print(a[:c[0]] + a[c[1]:])"
   ]
  },
  {
   "cell_type": "code",
   "execution_count": 272,
   "metadata": {},
   "outputs": [
    {
     "name": "stdout",
     "output_type": "stream",
     "text": [
      "AAABCCCBBNNAAA\n",
      "AAABCCCBBNNAA\n"
     ]
    }
   ],
   "source": [
    "c = random.randint(0, lengh) # более часто\n",
    "print(a)\n",
    "print(a[:c] + a[c+1:])"
   ]
  },
  {
   "cell_type": "code",
   "execution_count": 280,
   "metadata": {},
   "outputs": [
    {
     "name": "stdout",
     "output_type": "stream",
     "text": [
      "AAABCCCBBNNAAA\n",
      "ABBNNAAA\n"
     ]
    }
   ],
   "source": [
    "n = 1 + 1*random.randint(0,1) + 1*random.randint(0,1)\n",
    "if n == 3:\n",
    "    c = sorted([random.randint(0, lengh) for _ in range(2)]) # менее часто\n",
    "    print(a)\n",
    "    print(a[:c[0]] + a[c[1]:])\n",
    "else:\n",
    "    c = random.randint(0, lengh) # более часто\n",
    "    print(a)\n",
    "    print(a[:c] + a[c+1:])"
   ]
  },
  {
   "cell_type": "markdown",
   "metadata": {},
   "source": [
    "#### вставка"
   ]
  },
  {
   "cell_type": "code",
   "execution_count": 291,
   "metadata": {},
   "outputs": [
    {
     "name": "stdout",
     "output_type": "stream",
     "text": [
      "AAABCCCBBNNAAA\n",
      "AAABCCCBBANNAAA\n"
     ]
    }
   ],
   "source": [
    "cur = random.randint(0, lengh) # чаще\n",
    "print(a)\n",
    "print(a[:cur] + random.choice(list(set(a))) + a[cur:])"
   ]
  },
  {
   "cell_type": "code",
   "execution_count": 311,
   "metadata": {},
   "outputs": [
    {
     "name": "stdout",
     "output_type": "stream",
     "text": [
      "AAABCCCBBNNAAA\n",
      "AAABCCCBBNNAACNNBNCA\n"
     ]
    }
   ],
   "source": [
    "ins = \"\".join([random.choice(list(set(a))) for _ in range(random.randint(0, int(lengh*0.5)))]) # реже\n",
    "cur = random.randint(0, lengh)\n",
    "print(a)\n",
    "print(a[:cur] + ins + a[cur:])"
   ]
  },
  {
   "cell_type": "code",
   "execution_count": 332,
   "metadata": {},
   "outputs": [
    {
     "name": "stdout",
     "output_type": "stream",
     "text": [
      "AAABCCCBBNNAAA\n",
      "AAABCCCBBNNNAAA\n"
     ]
    }
   ],
   "source": [
    "n = 1 + 1*random.randint(0,1) + 1*random.randint(0,1) + 1*random.randint(0,1)\n",
    "if n == 4:\n",
    "    ins = \"\".join([random.choice(list(set(a))) for _ in range(random.randint(0, int(lengh*0.5)))]) # реже\n",
    "    cur = random.randint(0, lengh)\n",
    "    print(a)\n",
    "    print(a[:cur] + ins + a[cur:])\n",
    "else:\n",
    "    cur = random.randint(0, lengh) # чаще\n",
    "    print(a)\n",
    "    print(a[:cur] + random.choice(list(set(a))) + a[cur:])"
   ]
  },
  {
   "cell_type": "code",
   "execution_count": null,
   "metadata": {},
   "outputs": [],
   "source": []
  }
 ],
 "metadata": {
  "kernelspec": {
   "display_name": "Python 3",
   "language": "python",
   "name": "python3"
  },
  "language_info": {
   "codemirror_mode": {
    "name": "ipython",
    "version": 3
   },
   "file_extension": ".py",
   "mimetype": "text/x-python",
   "name": "python",
   "nbconvert_exporter": "python",
   "pygments_lexer": "ipython3",
   "version": "3.8.5"
  }
 },
 "nbformat": 4,
 "nbformat_minor": 4
}
