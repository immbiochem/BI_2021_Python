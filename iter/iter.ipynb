{
 "cells": [
  {
   "cell_type": "markdown",
   "metadata": {},
   "source": [
    "Основная часть (20 баллов)\n",
    "\n",
    "\n",
    "1. Сделайте генератор, который принимает на вход путь к фаста файлу и выдаёт по очереди пары id последовательности (то, что после \">\") и последовательности. (5 баллов)\n",
    "Пример использования на рисунке Example1. Обратите внимание, что функция должна возвращать НЕ список, а генератор! Биопитон и другие библиотеки не используем.\n",
    "\n",
    "\n",
    "2. Напишите класс, производящий чтение последовательностей с небольшими изменениями. (15 баллов)\n",
    "Класс должен иметь конструктор хотя бы с одним аргументом - путь к фаста файлу\n",
    "Объект данного класса должен поддерживать итерацию по нему. Не по атрибутам, а именно по самому объекту.\n",
    "В процессе итерации класс бесконечно перебирает последовательности в файле. Если файл закончился, то итерация продолжается с его начала.\n",
    "При возвращении каждой очередной последовательности класс немного изменяет её с заданной вероятностью (способ задачи вероятности придумайте сами). Можно менять часть аминокислот, делать делеции, вставки и т.д.. Функционал для изменения последовательностей выделите в отдельный(е) метод(ы).\n",
    "Наследоваться запрещается\n",
    "\n",
    "\n",
    "Дополнительная часть (10 баллов)\n",
    "\n",
    "\n",
    "Чтобы выполнить эти задания, понадобится найти дополнительную информацию об итераторах.\n",
    "\n",
    "\n",
    "1. Напишите генератор iter_append(iterable, item), который \"добавляет\" элемент item в \"конец\" iterable. (5 доп баллов)\n",
    "То есть при итерации по iter_append(iterable, item) мы сначала будем получать данные из iterable, а в самом конце одно значение item. Пример использования на рисунке Example3\n",
    "Напишите этот генератор без явных циклов (без конструкций while, for и list comprehensions)\n",
    "Не используйте никакие другие функции в теле iter_append\n",
    "2. Сделайте функцию, которая \"распаковывает\" вложенные списки (5 доп баллов)\n",
    "Уровень вложенности списков может быть любым. Пример использования на рисунке Example2.\n",
    "Подсказка: используйте генераторы и синтаксис из предыдущего задания\n",
    "\n",
    "\n",
    "Общие требования:\n",
    "Наличие README с описанием и инструкцией по использованию поощрается\n",
    "Сторонние библиотеки не используем\n",
    "Форма сдачи - ссылка на пулл реквест в master/main ветку вашего репозитория BI_2021_Python\n",
    "Решение оформить в виде Python скрипта"
   ]
  },
  {
   "cell_type": "markdown",
   "metadata": {},
   "source": [
    "### Задание 1"
   ]
  },
  {
   "cell_type": "code",
   "execution_count": 34,
   "metadata": {},
   "outputs": [],
   "source": [
    "path_to = r'sequences.fasta'"
   ]
  },
  {
   "cell_type": "code",
   "execution_count": 8,
   "metadata": {},
   "outputs": [],
   "source": [
    "def gen_fasta(path:str):\n",
    "    body = []\n",
    "    stroka = str()\n",
    "    with open(path, 'r') as file:\n",
    "        body.append(file.readline().strip())\n",
    "        for line in file:\n",
    "            if line.startswith('>'):\n",
    "                body.append(stroka)\n",
    "                body.append(line.strip())\n",
    "                stroka = str()\n",
    "            else:\n",
    "                stroka += line.strip()\n",
    "    body.append(stroka)\n",
    "    for value in body:\n",
    "        yield value"
   ]
  },
  {
   "cell_type": "markdown",
   "metadata": {},
   "source": [
    "#### Демонстрация"
   ]
  },
  {
   "cell_type": "code",
   "execution_count": 11,
   "metadata": {},
   "outputs": [
    {
     "name": "stdout",
     "output_type": "stream",
     "text": [
      "<generator object gen_fasta at 0x00000211E4094D60>\n"
     ]
    }
   ],
   "source": [
    "generator = gen_fasta(path_to)\n",
    "print(generator)"
   ]
  },
  {
   "cell_type": "code",
   "execution_count": 12,
   "metadata": {},
   "outputs": [
    {
     "name": "stdout",
     "output_type": "stream",
     "text": [
      ">Seq1\n",
      "MVELKEPFATLWRGKDPFEEVKTLQGEVFRELETRRTLRFEMAGKSYFLKWHRGTTLKEIIKNLLSLRMPVLGADREWNAIHRLRDVGVDTMYGVAFGEKGMNPLTRTSFIITEDLTPTISLEDYCADWATNPPDVRVKRMLIKRVATMVRDMHAAGINHRDCYICHFLLHLPFSGKEEELKISVIDLHRAQLRTRVPRRWRDKDLIGLYFSSMNIGLTQRDIWRFMKVYFAAPLKDILKQEQGLLSQAEAKATKIRERTIRKSL\n",
      ">Seq2\n",
      "MKLMLAEPFKSLWAGRDAFAEVEALKGEVYRELEARRTLRTEVDGRGFFVKIHRGIGWGEIFKNLFTAKLPVLGAGQEWKAIQRLQEVGVPTMTAVAYGEKGSNPADQHSFIVTEELAPTVSLEDFSIDWVKQPPQPALKRALIAEVARMTGMMHRAGVNHRDCYICHFLLHTDKPVTPEDFKLSVIDLHRAQTRPAITTRWRNKDLAALYFSALDIGLTRRDKLRFLKGYFQQPLRRILAEEASLLAWLEGKANKLYARKQRYGDAL\n"
     ]
    }
   ],
   "source": [
    "for _ in range(4):\n",
    "    print(next(generator))"
   ]
  },
  {
   "cell_type": "markdown",
   "metadata": {},
   "source": [
    "### Задание 2"
   ]
  },
  {
   "cell_type": "code",
   "execution_count": 3,
   "metadata": {},
   "outputs": [],
   "source": [
    "import random"
   ]
  },
  {
   "cell_type": "code",
   "execution_count": 51,
   "metadata": {},
   "outputs": [],
   "source": [
    "class GeneratorRex:\n",
    "    \"\"\"\n",
    "    input: path to .fasta file\n",
    "    replacement - replace one or more letters in the given sequence\n",
    "    delit - remove a letter or piece in the given sequence\n",
    "    inser - insert one or more letters into the given sequence\n",
    "    chance - apply replacement, delit or inser with some probability to the passed sequence\n",
    "    \"\"\"\n",
    "    def __init__(self, path_to_file):\n",
    "        self.path_to_file = path_to_file\n",
    "        self.box = []\n",
    "        self.stroka = str()\n",
    "        with open(self.path_to_file, 'r') as file:\n",
    "            file.readline()\n",
    "            for line in file:\n",
    "                if line.startswith('>'):\n",
    "                    self.box.append(self.stroka)\n",
    "                    self.stroka = str()\n",
    "                else:\n",
    "                    self.stroka += line.strip()\n",
    "        self.box.append(self.stroka)\n",
    "        self._coursor = -1\n",
    "        \n",
    "    def replacement(self, line):\n",
    "        lengh = len(line)\n",
    "        line_list = list(line)\n",
    "        amount_of_replace = range(int(lengh*round(random.choice([i*0.1 for i in range(5)]), 2)))\n",
    "        indexes_for_replace = [random.randint(0, lengh-1) for _ in amount_of_replace]\n",
    "        for i in indexes_for_replace:\n",
    "            line_list[i] = random.choice(list(set(line)))  # replace to letter from line alphabet\n",
    "        return ''.join(line_list)\n",
    "    \n",
    "    def delit(self, line):\n",
    "        lengh = len(line)\n",
    "        rand_chance = random.randint(0, 3)  # rand_chance == 3 probability 1/4\n",
    "        if rand_chance == 3:  # big del\n",
    "            boundary_list = sorted([random.randint(0, lengh) for _ in range(2)]) \n",
    "            return line[:boundary_list[0]] + line[boundary_list[1]:]\n",
    "        else:  # short del\n",
    "            boundary_num = random.randint(0, lengh) \n",
    "            return line[:boundary_num] + line[boundary_num+1:]\n",
    "        \n",
    "    def inser(self, line):\n",
    "        lengh = len(line)\n",
    "        rand_chance = random.randint(0, 3)  # rand_chance == 3 probability 1/4\n",
    "        boundary = random.randint(0, lengh)\n",
    "        if rand_chance == 3:\n",
    "            insert_part = \"\".join([random.choice(list(set(line))) for _ in range(random.randint(0, int(lengh*0.5)))])\n",
    "            return line[:boundary] + insert_part + line[boundary:]\n",
    "        else:\n",
    "            return line[:boundary] + random.choice(list(set(line))) + line[boundary:]\n",
    "        \n",
    "    def chance(self, line):\n",
    "        coin = random.randint(0, 3)\n",
    "        if coin >= 1:\n",
    "            return self.replacement(line)\n",
    "        else:\n",
    "            coin = random.randint(0, 1)\n",
    "            if coin:\n",
    "                return self.inser(line)\n",
    "            else:\n",
    "                return self.delit(line)\n",
    "    \n",
    "    def __next__(self):    \n",
    "        self._coursor += 1\n",
    "        try:\n",
    "            return self.chance(self.box[self._coursor])\n",
    "        except IndexError:\n",
    "            self._coursor = 0\n",
    "            return self.chance(self.box[self._coursor])\n",
    "       \n",
    "    def __iter__(self):\n",
    "        return self"
   ]
  },
  {
   "cell_type": "markdown",
   "metadata": {},
   "source": [
    "#### Демонстрация класса"
   ]
  },
  {
   "cell_type": "code",
   "execution_count": 52,
   "metadata": {},
   "outputs": [],
   "source": [
    "rex = GeneratorRex(path_to)"
   ]
  },
  {
   "cell_type": "code",
   "execution_count": 53,
   "metadata": {},
   "outputs": [
    {
     "data": {
      "text/plain": [
       "'MVELKGPFATLSRGKAPFVEVKTLQWEAERYLEHQHTLRFEMASKSNFLCWHRWTTSSEIIKNLLSLRMIVLGADRTWNYIHRLRDVGVDTMYCVAFGFKGMFPLTRTSYIITYDGTGVISLCDYEADKITNEPDVWVKRMLIKRVATWVCDTHAAGINTHCCYICFMLLHAYFSQMEEELKISVIDLHRAQLRTRVPRRWRDKDLIGLYFSWMKYGYTQRDIWWFDSVYFLAPLKDIEKQEQRHLSQAMAMATKRAERTTYKVL'"
      ]
     },
     "execution_count": 53,
     "metadata": {},
     "output_type": "execute_result"
    }
   ],
   "source": [
    "next(rex)"
   ]
  },
  {
   "cell_type": "code",
   "execution_count": 54,
   "metadata": {},
   "outputs": [
    {
     "data": {
      "text/plain": [
       "166"
      ]
     },
     "execution_count": 54,
     "metadata": {},
     "output_type": "execute_result"
    }
   ],
   "source": [
    "len(rex.box)"
   ]
  },
  {
   "cell_type": "code",
   "execution_count": 55,
   "metadata": {},
   "outputs": [
    {
     "data": {
      "text/plain": [
       "'MRLVLEEPFKRLWNGRDPFEAVEALQGKVYRELEGRRTLRTEVDGRGYFVKIHRGIGWGEIAKNLLTAKLPVLGARQEWQAIRRLHEAGVATMTAVAYGERGSDPARQHSFIVTEELAPTVDLEVFSQDWRERPPPPRLKRALVEAVARMVGDMHRAGVNHRDCYICHFLLHTDKPVSADDFRLSVIDLHRAQTRDATPKRWRNKDLAALYFSALDGLTRRDKLRFLRTYFRRPLREILRDEAGLLAWMERQAEKLYERKQRYGDLL'"
      ]
     },
     "execution_count": 55,
     "metadata": {},
     "output_type": "execute_result"
    }
   ],
   "source": [
    "for i in range(168):\n",
    "    intermediant = next(rex)\n",
    "intermediant"
   ]
  },
  {
   "cell_type": "code",
   "execution_count": null,
   "metadata": {},
   "outputs": [],
   "source": []
  }
 ],
 "metadata": {
  "kernelspec": {
   "display_name": "Python 3",
   "language": "python",
   "name": "python3"
  },
  "language_info": {
   "codemirror_mode": {
    "name": "ipython",
    "version": 3
   },
   "file_extension": ".py",
   "mimetype": "text/x-python",
   "name": "python",
   "nbconvert_exporter": "python",
   "pygments_lexer": "ipython3",
   "version": "3.8.5"
  }
 },
 "nbformat": 4,
 "nbformat_minor": 4
}
